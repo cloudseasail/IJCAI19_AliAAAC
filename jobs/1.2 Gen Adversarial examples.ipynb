{
 "cells": [
  {
   "cell_type": "markdown",
   "metadata": {},
   "source": [
    "1. gen on good examples\n",
    "2. use mim"
   ]
  },
  {
   "cell_type": "code",
   "execution_count": 1,
   "metadata": {},
   "outputs": [
    {
     "name": "stderr",
     "output_type": "stream",
     "text": [
      "Using TensorFlow backend.\n"
     ]
    },
    {
     "name": "stdout",
     "output_type": "stream",
     "text": [
      "Found 97934 images belonging to 110 classes.\n"
     ]
    }
   ],
   "source": [
    "import sys\n",
    "sys.path.append(\"..\")\n",
    "from PIL import ImageFile\n",
    "ImageFile.LOAD_TRUNCATED_IMAGES = True\n",
    "from module.official_model_v3 import OfficialModel\n",
    "OfficialModel.OFFICIAL_DATA_ROOT = '../../official_data/'\n",
    "\n",
    "from module.EnhancedDataGenerator import *\n",
    "from module.EmbeddedAttackModel import TargetModel, EmbeddedAttackModel\n",
    "from module.gs_mim import GradSmoothMomentumIterativeMethod\n",
    "\n",
    "\n",
    "from module.utils_tf import * \n",
    "from module.utils import * \n",
    "import tensorflow as tf\n",
    "import time\n",
    "\n",
    "IMAGE_SIZE = 299\n",
    "BATCH_SIZE = 4\n",
    "LABEL_SIZE = 110\n",
    "good_dir = '../../official_data/prepared_train_data/good/'\n",
    "adv_dir = '../../official_data/prepared_train_data/adv/'\n",
    "batch_shape = (BATCH_SIZE, IMAGE_SIZE, IMAGE_SIZE, 3)\n",
    "\n",
    "\n",
    "#create folder\n",
    "import os\n",
    "def might_create(save_dir, num_classes):\n",
    "    if os.path.exists(save_dir) is False:\n",
    "        os.makedirs(save_dir)\n",
    "        for i in range(num_classes):\n",
    "            f = \"0000\"+str(i)\n",
    "            os.makedirs(os.path.join(save_dir, f[-5:]))\n",
    "might_create(adv_dir,LABEL_SIZE)\n",
    "\n",
    "G = NamedDataGenerator()\n",
    "GF = G.flow_from_directory(\n",
    "    good_dir,\n",
    "    target_size=(IMAGE_SIZE, IMAGE_SIZE),\n",
    "    batch_size = BATCH_SIZE,\n",
    "    class_mode='categorical',\n",
    "    shuffle=True,\n",
    "    )\n",
    "\n",
    "name = 'inception_v1'\n",
    "T1 = TargetModel(batch_shape, LABEL_SIZE, name=name)\n",
    "name = 'resnetv1_50'\n",
    "T2 = TargetModel(batch_shape, LABEL_SIZE, name=name)\n",
    "name = 'vgg_16'\n",
    "T3 = TargetModel(batch_shape, LABEL_SIZE, name=name)\n",
    "\n",
    "def generate(M, T, attack_params, max_sample_size = 5000, prefix='adv'):\n",
    "    A = EmbeddedAttackModel(batch_shape, LABEL_SIZE)\n",
    "    A.add_model(T)\n",
    "    AdvSaver = ImageSaver(adv_dir, save_format='jpg', data_format=G.data_format, save_prefix=prefix)\n",
    "    sample_size = 0\n",
    "    check_timestamp = time.time()\n",
    "    config = gpu_session_config()\n",
    "    with tf.Session(config=config) as sess:\n",
    "        A.attack_generate(sess, M, attack_params)\n",
    "        for (X,Y),filenames in GF:\n",
    "            Xadv = A.attack_batch(X, Y)\n",
    "            for i in range(Xadv.shape[0]):\n",
    "                sample_size+=1\n",
    "                fname = filenames[i][:15]\n",
    "                AdvSaver.save_array(fname, Xadv[i])\n",
    "            if sample_size > max_sample_size:\n",
    "                duration = time.time() - check_timestamp\n",
    "                check_timestamp = time.time()\n",
    "                print(\"%s total %d, duration %.2f mins\" %(prefix, sample_size,duration/60))\n",
    "                break\n",
    "    tf.reset_default_graph()\n",
    "    return X,Xadv\n",
    "M = GradSmoothMomentumIterativeMethod\n",
    "\n",
    "def generate_wrapper(M, T, epr,n, max_sample_size=1000):\n",
    "    prefix = \"{method}_{model}_ep{ep}_n{n}\".format(method=\"gsmim\", model=T.name, ep=int(epr*100), n=n) \n",
    "    attack_params = {\"ep_ratio\":epr, \"nb_iter\":n}\n",
    "    X,Xadv = generate(M, T, attack_params, max_sample_size=max_sample_size, prefix=prefix)\n",
    "    print(prefix + \" last L2:\", calc_l2(X,Xadv))\n",
    "    return X,Xadv"
   ]
  },
  {
   "cell_type": "code",
   "execution_count": 2,
   "metadata": {},
   "outputs": [],
   "source": [
    "# generate_wrapper(M, T3, 0.1, 5, 10)"
   ]
  },
  {
   "cell_type": "code",
   "execution_count": 3,
   "metadata": {},
   "outputs": [
    {
     "name": "stdout",
     "output_type": "stream",
     "text": [
      "{'ep_ratio': 0.05, 'nb_iter': 5, 'eps': 12.75, 'eps_iter': 2.55, 'y': <tf.Tensor 'output:0' shape=(?, 110) dtype=float32>, 'clip_min': 0, 'clip_max': 255}\n"
     ]
    },
    {
     "name": "stderr",
     "output_type": "stream",
     "text": [
      "..\\module\\gs_mim.py:204: UserWarning: kwargs is unused and will be removed on or after 2019-04-26.\n",
      "  warnings.warn(\"kwargs is unused and will be removed on or after \"\n"
     ]
    },
    {
     "name": "stdout",
     "output_type": "stream",
     "text": [
      "INFO:tensorflow:Restoring parameters from ../../official_data/model/inception_v1/inception_v1.ckpt\n",
      "gsmim_inception_v1_ep5_n5 total 24, duration 0.24 mins\n",
      "gsmim_inception_v1_ep5_n5 last L2: 9.355155\n"
     ]
    }
   ],
   "source": [
    "X,Xadv = generate_wrapper(M, T1, 0.05, 5, 20)"
   ]
  },
  {
   "cell_type": "code",
   "execution_count": 4,
   "metadata": {},
   "outputs": [
    {
     "data": {
      "text/plain": [
       "1280"
      ]
     },
     "execution_count": 4,
     "metadata": {},
     "output_type": "execute_result"
    }
   ],
   "source": [
    "get_gpu_status()"
   ]
  },
  {
   "cell_type": "code",
   "execution_count": null,
   "metadata": {},
   "outputs": [],
   "source": []
  }
 ],
 "metadata": {
  "kernelspec": {
   "display_name": "Python 3",
   "language": "python",
   "name": "python3"
  },
  "language_info": {
   "codemirror_mode": {
    "name": "ipython",
    "version": 3
   },
   "file_extension": ".py",
   "mimetype": "text/x-python",
   "name": "python",
   "nbconvert_exporter": "python",
   "pygments_lexer": "ipython3",
   "version": "3.6.8"
  }
 },
 "nbformat": 4,
 "nbformat_minor": 2
}

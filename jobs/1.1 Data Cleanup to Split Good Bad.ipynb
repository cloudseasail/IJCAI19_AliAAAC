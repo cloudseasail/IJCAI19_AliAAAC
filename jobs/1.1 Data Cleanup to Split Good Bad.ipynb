{
 "cells": [
  {
   "cell_type": "markdown",
   "metadata": {},
   "source": [
    "1. datagen with filename\n",
    "2. classifier with predict labels\n",
    "3. split into different folders\n"
   ]
  },
  {
   "cell_type": "code",
   "execution_count": 1,
   "metadata": {},
   "outputs": [
    {
     "name": "stderr",
     "output_type": "stream",
     "text": [
      "Using TensorFlow backend.\n"
     ]
    }
   ],
   "source": [
    "from PIL import ImageFile\n",
    "ImageFile.LOAD_TRUNCATED_IMAGES = True\n",
    "\n",
    "from IJCAI19.module.EnhancedDataGenerator import *\n",
    "from IJCAI19.module.EmbeddedAttackModel import AttackModel\n",
    "from IJCAI19.module.utils_tf import * \n",
    "from IJCAI19.module.utils import * \n",
    "import tensorflow as tf\n",
    "import time\n",
    "\n",
    "IMAGE_SIZE = 299\n",
    "BATCH_SIZE = 32\n",
    "LABEL_SIZE = 110\n",
    "data_dir = '../official_data/IJCAI_2019_AAAC_train/'\n",
    "good_dir = '../official_data/prepared_train_data/good/'\n",
    "bad_dir = '../official_data/prepared_train_data/bad/'\n",
    "batch_shape = (BATCH_SIZE, IMAGE_SIZE, IMAGE_SIZE, 3)"
   ]
  },
  {
   "cell_type": "code",
   "execution_count": 2,
   "metadata": {},
   "outputs": [],
   "source": [
    "#create folder\n",
    "import os\n",
    "def might_create(save_dir, num_classes):\n",
    "    if os.path.exists(save_dir) is False:\n",
    "        os.makedirs(save_dir)\n",
    "        for i in range(num_classes):\n",
    "            f = \"0000\"+str(i)\n",
    "            os.makedirs(os.path.join(save_dir, f[-5:]))\n",
    "might_create(good_dir,LABEL_SIZE)\n",
    "might_create(bad_dir,LABEL_SIZE)"
   ]
  },
  {
   "cell_type": "code",
   "execution_count": 3,
   "metadata": {},
   "outputs": [
    {
     "name": "stdout",
     "output_type": "stream",
     "text": [
      "Found 103350 images belonging to 110 classes.\n",
      "INFO:tensorflow:Restoring parameters from ../official_data/model/inception_v1/inception_v1.ckpt\n",
      "good 1837, bad 179, total 2016, acc 0.911210, duration 1.25 mins\n"
     ]
    },
    {
     "name": "stderr",
     "output_type": "stream",
     "text": [
      "C:\\ProgramData\\Miniconda3\\lib\\site-packages\\PIL\\TiffImagePlugin.py:763: UserWarning: Possibly corrupt EXIF data.  Expecting to read 6029312 bytes but only got 0. Skipping tag 0\n",
      "  \" Skipping tag %s\" % (size, len(data), tag))\n",
      "C:\\ProgramData\\Miniconda3\\lib\\site-packages\\PIL\\TiffImagePlugin.py:763: UserWarning: Possibly corrupt EXIF data.  Expecting to read 2284257280 bytes but only got 0. Skipping tag 0\n",
      "  \" Skipping tag %s\" % (size, len(data), tag))\n",
      "C:\\ProgramData\\Miniconda3\\lib\\site-packages\\PIL\\TiffImagePlugin.py:763: UserWarning: Possibly corrupt EXIF data.  Expecting to read 19599982592 bytes but only got 0. Skipping tag 0\n",
      "  \" Skipping tag %s\" % (size, len(data), tag))\n",
      "C:\\ProgramData\\Miniconda3\\lib\\site-packages\\PIL\\TiffImagePlugin.py:763: UserWarning: Possibly corrupt EXIF data.  Expecting to read 2734686208 bytes but only got 0. Skipping tag 0\n",
      "  \" Skipping tag %s\" % (size, len(data), tag))\n",
      "C:\\ProgramData\\Miniconda3\\lib\\site-packages\\PIL\\TiffImagePlugin.py:763: UserWarning: Possibly corrupt EXIF data.  Expecting to read 7281180688 bytes but only got 0. Skipping tag 8\n",
      "  \" Skipping tag %s\" % (size, len(data), tag))\n"
     ]
    },
    {
     "name": "stdout",
     "output_type": "stream",
     "text": [
      "good 3675, bad 357, total 4032, acc 0.911458, duration 1.14 mins\n",
      "good 5614, bad 402, total 6016, acc 0.933178, duration 1.08 mins\n",
      "good 7592, bad 440, total 8032, acc 0.945219, duration 1.05 mins\n",
      "good 9428, bad 588, total 10016, acc 0.941294, duration 1.11 mins\n",
      "good 11240, bad 792, total 12032, acc 0.934176, duration 1.17 mins\n",
      "good 13099, bad 917, total 14016, acc 0.934575, duration 1.33 mins\n",
      "good 14987, bad 1045, total 16032, acc 0.934818, duration 1.38 mins\n",
      "good 16891, bad 1125, total 18016, acc 0.937556, duration 1.28 mins\n"
     ]
    },
    {
     "name": "stderr",
     "output_type": "stream",
     "text": [
      "C:\\ProgramData\\Miniconda3\\lib\\site-packages\\PIL\\Image.py:969: UserWarning: Palette images with Transparency   expressed in bytes should be converted to RGBA images\n",
      "  'to RGBA images')\n"
     ]
    },
    {
     "name": "stdout",
     "output_type": "stream",
     "text": [
      "good 18760, bad 1272, total 20032, acc 0.936502, duration 1.31 mins\n",
      "good 20683, bad 1333, total 22016, acc 0.939453, duration 1.25 mins\n",
      "good 22541, bad 1491, total 24032, acc 0.937958, duration 1.41 mins\n",
      "good 24277, bad 1739, total 26016, acc 0.933157, duration 1.37 mins\n",
      "good 26196, bad 1836, total 28032, acc 0.934503, duration 1.29 mins\n",
      "good 28142, bad 1874, total 30016, acc 0.937567, duration 1.29 mins\n",
      "good 30036, bad 1996, total 32032, acc 0.937687, duration 1.37 mins\n",
      "good 31939, bad 2077, total 34016, acc 0.938940, duration 1.29 mins\n",
      "good 33923, bad 2109, total 36032, acc 0.941469, duration 1.25 mins\n",
      "good 35782, bad 2234, total 38016, acc 0.941235, duration 1.28 mins\n",
      "good 37669, bad 2363, total 40032, acc 0.940972, duration 1.45 mins\n",
      "good 39570, bad 2446, total 42016, acc 0.941784, duration 1.30 mins\n",
      "good 41430, bad 2602, total 44032, acc 0.940907, duration 1.35 mins\n",
      "good 43280, bad 2736, total 46016, acc 0.940542, duration 1.35 mins\n",
      "good 45247, bad 2785, total 48032, acc 0.942018, duration 1.34 mins\n",
      "good 47170, bad 2846, total 50016, acc 0.943098, duration 1.30 mins\n",
      "good 49096, bad 2936, total 52032, acc 0.943573, duration 1.41 mins\n",
      "good 51038, bad 2978, total 54016, acc 0.944868, duration 1.32 mins\n",
      "good 52962, bad 3070, total 56032, acc 0.945210, duration 1.30 mins\n",
      "good 54880, bad 3136, total 58016, acc 0.945946, duration 1.27 mins\n",
      "good 56744, bad 3288, total 60032, acc 0.945229, duration 1.40 mins\n",
      "good 58666, bad 3350, total 62016, acc 0.945982, duration 1.35 mins\n",
      "good 60601, bad 3431, total 64032, acc 0.946417, duration 1.33 mins\n",
      "good 62545, bad 3471, total 66016, acc 0.947422, duration 1.29 mins\n",
      "good 64388, bad 3644, total 68032, acc 0.946437, duration 1.33 mins\n",
      "good 66230, bad 3786, total 70016, acc 0.945927, duration 1.30 mins\n",
      "good 68192, bad 3840, total 72032, acc 0.946690, duration 1.27 mins\n",
      "good 70115, bad 3901, total 74016, acc 0.947295, duration 1.29 mins\n"
     ]
    },
    {
     "name": "stderr",
     "output_type": "stream",
     "text": [
      "C:\\ProgramData\\Miniconda3\\lib\\site-packages\\PIL\\TiffImagePlugin.py:780: UserWarning: Corrupt EXIF data.  Expecting to read 2 bytes but only got 0. \n",
      "  warnings.warn(str(msg))\n"
     ]
    },
    {
     "name": "stdout",
     "output_type": "stream",
     "text": [
      "good 72047, bad 3985, total 76032, acc 0.947588, duration 1.42 mins\n",
      "good 73838, bad 4178, total 78016, acc 0.946447, duration 1.48 mins\n",
      "good 75761, bad 4271, total 80032, acc 0.946634, duration 1.42 mins\n",
      "good 77633, bad 4383, total 82016, acc 0.946559, duration 1.35 mins\n",
      "good 79515, bad 4517, total 84032, acc 0.946247, duration 1.41 mins\n",
      "good 81198, bad 4818, total 86016, acc 0.943987, duration 1.44 mins\n"
     ]
    },
    {
     "name": "stderr",
     "output_type": "stream",
     "text": [
      "C:\\ProgramData\\Miniconda3\\lib\\site-packages\\PIL\\TiffImagePlugin.py:763: UserWarning: Possibly corrupt EXIF data.  Expecting to read 285278993 bytes but only got 0. Skipping tag 290\n",
      "  \" Skipping tag %s\" % (size, len(data), tag))\n",
      "C:\\ProgramData\\Miniconda3\\lib\\site-packages\\PIL\\TiffImagePlugin.py:763: UserWarning: Possibly corrupt EXIF data.  Expecting to read 403177488 bytes but only got 0. Skipping tag 65498\n",
      "  \" Skipping tag %s\" % (size, len(data), tag))\n",
      "C:\\ProgramData\\Miniconda3\\lib\\site-packages\\PIL\\TiffImagePlugin.py:763: UserWarning: Possibly corrupt EXIF data.  Expecting to read 393216 bytes but only got 0. Skipping tag 0\n",
      "  \" Skipping tag %s\" % (size, len(data), tag))\n",
      "C:\\ProgramData\\Miniconda3\\lib\\site-packages\\PIL\\TiffImagePlugin.py:763: UserWarning: Possibly corrupt EXIF data.  Expecting to read 8018 bytes but only got 0. Skipping tag 0\n",
      "  \" Skipping tag %s\" % (size, len(data), tag))\n",
      "C:\\ProgramData\\Miniconda3\\lib\\site-packages\\PIL\\TiffImagePlugin.py:763: UserWarning: Possibly corrupt EXIF data.  Expecting to read 8010 bytes but only got 0. Skipping tag 0\n",
      "  \" Skipping tag %s\" % (size, len(data), tag))\n",
      "C:\\ProgramData\\Miniconda3\\lib\\site-packages\\PIL\\TiffImagePlugin.py:763: UserWarning: Possibly corrupt EXIF data.  Expecting to read 131072 bytes but only got 0. Skipping tag 0\n",
      "  \" Skipping tag %s\" % (size, len(data), tag))\n",
      "C:\\ProgramData\\Miniconda3\\lib\\site-packages\\PIL\\TiffImagePlugin.py:763: UserWarning: Possibly corrupt EXIF data.  Expecting to read 8 bytes but only got 0. Skipping tag 0\n",
      "  \" Skipping tag %s\" % (size, len(data), tag))\n",
      "C:\\ProgramData\\Miniconda3\\lib\\site-packages\\PIL\\TiffImagePlugin.py:763: UserWarning: Possibly corrupt EXIF data.  Expecting to read 65536 bytes but only got 0. Skipping tag 0\n",
      "  \" Skipping tag %s\" % (size, len(data), tag))\n",
      "C:\\ProgramData\\Miniconda3\\lib\\site-packages\\PIL\\TiffImagePlugin.py:763: UserWarning: Possibly corrupt EXIF data.  Expecting to read 800 bytes but only got 0. Skipping tag 0\n",
      "  \" Skipping tag %s\" % (size, len(data), tag))\n",
      "C:\\ProgramData\\Miniconda3\\lib\\site-packages\\PIL\\TiffImagePlugin.py:780: UserWarning: Corrupt EXIF data.  Expecting to read 12 bytes but only got 4. \n",
      "  warnings.warn(str(msg))\n"
     ]
    },
    {
     "name": "stdout",
     "output_type": "stream",
     "text": [
      "good 83153, bad 4879, total 88032, acc 0.944577, duration 1.40 mins\n",
      "good 85018, bad 4998, total 90016, acc 0.944477, duration 1.32 mins\n",
      "good 86959, bad 5073, total 92032, acc 0.944878, duration 1.26 mins\n",
      "good 88875, bad 5141, total 94016, acc 0.945318, duration 1.29 mins\n",
      "good 90841, bad 5191, total 96032, acc 0.945945, duration 1.31 mins\n",
      "good 92783, bad 5233, total 98016, acc 0.946611, duration 1.27 mins\n",
      "good 94723, bad 5309, total 100032, acc 0.946927, duration 1.32 mins\n",
      "good 96646, bad 5370, total 102016, acc 0.947361, duration 1.30 mins\n",
      "last batch\n"
     ]
    }
   ],
   "source": [
    "G = NamedDataGenerator()\n",
    "GF = G.flow_from_directory(\n",
    "    data_dir,\n",
    "    target_size=(IMAGE_SIZE, IMAGE_SIZE),\n",
    "    batch_size = BATCH_SIZE,\n",
    "    class_mode='categorical',\n",
    "    shuffle=False,\n",
    "    )\n",
    "GoodSaver = ImageSaver(good_dir, save_format='jpg', data_format=G.data_format)\n",
    "BadSaver = ImageSaver(bad_dir, save_format='jpg', data_format=G.data_format)\n",
    "\n",
    "\n",
    "name = 'inception_v1'\n",
    "T = AttackModel(batch_shape, LABEL_SIZE, name=name)\n",
    "\n",
    "good_size =0\n",
    "bad_size = 0\n",
    "logi = 1\n",
    "check_timestamp = time.time()\n",
    "config = gpu_session_config()\n",
    "with tf.Session(config=config) as sess:\n",
    "    T.predict_create_graph(sess, TOP_K=3)\n",
    "    for (X,Y),filenames in GF:\n",
    "        if X.shape[0] < BATCH_SIZE:\n",
    "            print(\"last batch\")\n",
    "            for i in range(X.shape[0]):\n",
    "                bad_size +=1\n",
    "                BadSaver.save_array(filenames[i], X[i])\n",
    "            break\n",
    "        ypred, topk, accuracy = T.predict_batch(X, Y)\n",
    "#         print(topk)\n",
    "        for i in range(len(topk)):\n",
    "            if topk[i]:\n",
    "                good_size +=1\n",
    "                GoodSaver.save_array(filenames[i], X[i])\n",
    "            else:\n",
    "                bad_size +=1\n",
    "                BadSaver.save_array(filenames[i], X[i])\n",
    "        total_size = good_size+bad_size\n",
    "        if (total_size) > (2000 *logi):\n",
    "            logi += 1\n",
    "            duration = time.time() - check_timestamp\n",
    "            check_timestamp = time.time()\n",
    "            print(\"good %d, bad %d, total %d, acc %f, duration %.2f mins\" %(good_size, bad_size, total_size, good_size/total_size, duration/60))"
   ]
  },
  {
   "cell_type": "code",
   "execution_count": 4,
   "metadata": {},
   "outputs": [
    {
     "data": {
      "text/plain": [
       "1280"
      ]
     },
     "execution_count": 4,
     "metadata": {},
     "output_type": "execute_result"
    }
   ],
   "source": [
    "tf.reset_default_graph()\n",
    "get_gpu_status()"
   ]
  },
  {
   "cell_type": "code",
   "execution_count": null,
   "metadata": {},
   "outputs": [],
   "source": []
  }
 ],
 "metadata": {
  "kernelspec": {
   "display_name": "Python 3",
   "language": "python",
   "name": "python3"
  },
  "language_info": {
   "codemirror_mode": {
    "name": "ipython",
    "version": 3
   },
   "file_extension": ".py",
   "mimetype": "text/x-python",
   "name": "python",
   "nbconvert_exporter": "python",
   "pygments_lexer": "ipython3",
   "version": "3.6.8"
  }
 },
 "nbformat": 4,
 "nbformat_minor": 2
}

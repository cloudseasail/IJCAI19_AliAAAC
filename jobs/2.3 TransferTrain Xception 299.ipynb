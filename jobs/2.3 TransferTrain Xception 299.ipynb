{
 "cells": [
  {
   "cell_type": "code",
   "execution_count": 5,
   "metadata": {},
   "outputs": [
    {
     "name": "stdout",
     "output_type": "stream",
     "text": [
      "Found 93086 images belonging to 110 classes.\n",
      "Found 4890 images belonging to 110 classes.\n",
      "Found 11519 images belonging to 110 classes.\n",
      "shuffle_status:  good: 58.2, bad: 25.5, adv: 60.0, \n",
      "Found 4846 images belonging to 110 classes.\n",
      "Found 199 images belonging to 110 classes.\n",
      "Found 553 images belonging to 110 classes.\n",
      "MultiDataGenerator total length  7195\n",
      "TOTAL_SIZE 115120 ,BATCH_SIZE 16, STEPS_PRE_EPOCH 6835,\n"
     ]
    }
   ],
   "source": [
    "from PIL import ImageFile\n",
    "ImageFile.LOAD_TRUNCATED_IMAGES = True\n",
    "\n",
    "from keras.applications.xception import Xception, preprocess_input\n",
    "\n",
    "from keras import models\n",
    "from keras import layers\n",
    "from keras import optimizers\n",
    "from keras import callbacks\n",
    "from datetime import datetime\n",
    "\n",
    "IMAGE_SIZE = 299\n",
    "CLASS_SIZE = 110\n",
    "BATCH_SIZE = 16\n",
    "VALIDATION_SPLIT = 0.05\n",
    "\n",
    "####################################################\n",
    "############## DataGenerator  ####################\n",
    "####################################################\n",
    "import sys\n",
    "sys.path.append(\"..\")\n",
    "from IJCAI19.module.EnhancedDataGenerator import MultiDataGenerator\n",
    "from IJCAI19.module.utils import * \n",
    "\n",
    "sources = {\n",
    "    'good':{\n",
    "        'directory': '../../official_data/prepared_train_data/good/',\n",
    "        'shuffle_num': 100,\n",
    "    },\n",
    "    'bad':{\n",
    "        'directory': '../../official_data/prepared_train_data/bad/',\n",
    "        'shuffle_num': 12,\n",
    "    },\n",
    "    'adv':{\n",
    "        'directory': '../../official_data/prepared_train_data/adv/',\n",
    "        'shuffle_num': 12,\n",
    "    },\n",
    "}\n",
    "MDG = MultiDataGenerator(sources, \n",
    "                    msb_max=24, msb_rate=0.1, \n",
    "                    rotation_range=20,\n",
    "                    width_shift_range=0.1,\n",
    "                    height_shift_range=0.1,\n",
    "                    shear_range=0.1,\n",
    "                    zoom_range=0.05,\n",
    "                    channel_shift_range=4,\n",
    "                    horizontal_flip=True,\n",
    "                    fill_mode='nearest',\n",
    "                    preprocessing_function = preprocess_input,\n",
    "                    validation_split=VALIDATION_SPLIT)\n",
    "train_generator = MDG.get_train_flow(target_size=(IMAGE_SIZE, IMAGE_SIZE), batch_size = BATCH_SIZE)\n",
    "validation_generator = MDG.get_valid_flow(target_size=(IMAGE_SIZE, IMAGE_SIZE), batch_size = BATCH_SIZE)\n",
    "mutlgen_length = len(MDG)\n",
    "print(\"MultiDataGenerator total length \", mutlgen_length)\n",
    "\n",
    "TOTAL_SIZE = mutlgen_length*BATCH_SIZE\n",
    "TRAIN_SIZE = int(TOTAL_SIZE * (1-VALIDATION_SPLIT))\n",
    "EPOCH_SIZE = 10\n",
    "STEPS_PRE_EPOCH = TRAIN_SIZE//BATCH_SIZE\n",
    "print('TOTAL_SIZE {0} ,BATCH_SIZE {1}, STEPS_PRE_EPOCH {2},'.format(TOTAL_SIZE, BATCH_SIZE, STEPS_PRE_EPOCH))"
   ]
  },
  {
   "cell_type": "code",
   "execution_count": 6,
   "metadata": {},
   "outputs": [
    {
     "data": {
      "text/plain": [
       "58.17875"
      ]
     },
     "execution_count": 6,
     "metadata": {},
     "output_type": "execute_result"
    }
   ],
   "source": [
    "93086/16/100"
   ]
  },
  {
   "cell_type": "code",
   "execution_count": 8,
   "metadata": {},
   "outputs": [
    {
     "data": {
      "text/plain": [
       "0.0171884064198698"
      ]
     },
     "execution_count": 8,
     "metadata": {},
     "output_type": "execute_result"
    }
   ],
   "source": [
    "100/(93086/16)"
   ]
  },
  {
   "cell_type": "code",
   "execution_count": 12,
   "metadata": {},
   "outputs": [
    {
     "data": {
      "text/plain": [
       "0.016359918200409"
      ]
     },
     "execution_count": 12,
     "metadata": {},
     "output_type": "execute_result"
    }
   ],
   "source": [
    "5/(4890/16)"
   ]
  },
  {
   "cell_type": "code",
   "execution_count": 10,
   "metadata": {},
   "outputs": [
    {
     "data": {
      "text/plain": [
       "19.0359918200409"
      ]
     },
     "execution_count": 10,
     "metadata": {},
     "output_type": "execute_result"
    }
   ],
   "source": [
    "93086/4890"
   ]
  },
  {
   "cell_type": "code",
   "execution_count": null,
   "metadata": {},
   "outputs": [],
   "source": [
    "(100/good)*bad/100*badn"
   ]
  },
  {
   "cell_type": "code",
   "execution_count": 14,
   "metadata": {},
   "outputs": [
    {
     "data": {
      "text/plain": [
       "5.253206712072707"
      ]
     },
     "execution_count": 14,
     "metadata": {},
     "output_type": "execute_result"
    }
   ],
   "source": [
    "(4890/93086)*100"
   ]
  },
  {
   "cell_type": "code",
   "execution_count": null,
   "metadata": {},
   "outputs": [],
   "source": []
  }
 ],
 "metadata": {
  "kernelspec": {
   "display_name": "Python 3",
   "language": "python",
   "name": "python3"
  },
  "language_info": {
   "codemirror_mode": {
    "name": "ipython",
    "version": 3
   },
   "file_extension": ".py",
   "mimetype": "text/x-python",
   "name": "python",
   "nbconvert_exporter": "python",
   "pygments_lexer": "ipython3",
   "version": "3.6.8"
  }
 },
 "nbformat": 4,
 "nbformat_minor": 2
}

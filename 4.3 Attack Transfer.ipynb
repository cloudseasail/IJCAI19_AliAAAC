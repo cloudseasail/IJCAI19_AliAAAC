{
 "cells": [
  {
   "cell_type": "markdown",
   "metadata": {},
   "source": [
    "Gen Xadv from one model, and attack others"
   ]
  },
  {
   "cell_type": "code",
   "execution_count": 1,
   "metadata": {},
   "outputs": [
    {
     "name": "stderr",
     "output_type": "stream",
     "text": [
      "Using TensorFlow backend.\n"
     ]
    }
   ],
   "source": [
    "from module.cleverhans_model import AttackModel\n",
    "from module.utils import * \n",
    "from cleverhans.attacks import FastGradientMethod\n",
    "%matplotlib inline\n",
    "import logging\n",
    "logging.getLogger('tensorflow').setLevel(logging.WARNING)"
   ]
  },
  {
   "cell_type": "code",
   "execution_count": 2,
   "metadata": {},
   "outputs": [
    {
     "name": "stdout",
     "output_type": "stream",
     "text": [
      "inception_v1 attack runs: 42.38 s\n",
      "adv acc:  0.06363636\n",
      "L2 mean:  0.1995596038733204\n"
     ]
    }
   ],
   "source": [
    "name = 'inception_v1'\n",
    "batch_shape = (110, 224, 224, 3)\n",
    "M=AttackModel(batch_shape, 110)\n",
    "M.load(name=name)\n",
    "\n",
    "datag = dev_data_generater(batch_shape=batch_shape, label_shape=(110,110))\n",
    "_,X,Y = next(datag)\n",
    "X = M.preprocess_input(X)\n",
    "\n",
    "(_min, _max) = M._model._model['min_max']\n",
    "attack_params = {\"eps\":32.0 / 255.0, \"clip_min\": _min, \"clip_max\": _max}\n",
    "p=Profile(M.name+' attack')\n",
    "Xadv, ypred, accuracy = M.attack(X,Y, FastGradientMethod,attack_params)\n",
    "p.stop()\n",
    "\n",
    "print(\"adv acc: \", accuracy)\n",
    "print(\"L2 mean: \", M.L2(X,Xadv))\n",
    "\n",
    "X = M.undo_preprocess(X)\n",
    "Xadv = M.undo_preprocess(Xadv)"
   ]
  },
  {
   "cell_type": "code",
   "execution_count": 3,
   "metadata": {},
   "outputs": [
    {
     "name": "stdout",
     "output_type": "stream",
     "text": [
      "resnetv1_50 predict runs: 18.40 s\n",
      "0.2090909\n"
     ]
    }
   ],
   "source": [
    "name = 'resnetv1_50'\n",
    "batch_shape = (110, 224, 224, 3)\n",
    "M=AttackModel(batch_shape, 110)\n",
    "M.load(name=name)\n",
    "Xadv =  M.preprocess_input(Xadv)\n",
    "p=Profile(M.name+' predict')\n",
    "ypred, accuracy = M.predict(Xadv,Y)\n",
    "p.stop()\n",
    "print(accuracy)"
   ]
  },
  {
   "cell_type": "code",
   "execution_count": 4,
   "metadata": {},
   "outputs": [
    {
     "name": "stdout",
     "output_type": "stream",
     "text": [
      "vgg_16 predict runs: 182.51 s\n",
      "0.3090909\n"
     ]
    }
   ],
   "source": [
    "name = 'vgg_16'\n",
    "batch_shape = (110, 224, 224, 3)\n",
    "M=AttackModel(batch_shape, 110)\n",
    "M.load(name=name)\n",
    "Xadv =  M.preprocess_input(Xadv)\n",
    "p=Profile(M.name+' predict')\n",
    "ypred, accuracy = M.predict(Xadv,Y)\n",
    "p.stop()\n",
    "print(accuracy)"
   ]
  },
  {
   "cell_type": "code",
   "execution_count": null,
   "metadata": {},
   "outputs": [],
   "source": []
  }
 ],
 "metadata": {
  "kernelspec": {
   "display_name": "Python 3",
   "language": "python",
   "name": "python3"
  },
  "language_info": {
   "codemirror_mode": {
    "name": "ipython",
    "version": 3
   },
   "file_extension": ".py",
   "mimetype": "text/x-python",
   "name": "python",
   "nbconvert_exporter": "python",
   "pygments_lexer": "ipython3",
   "version": "3.6.8"
  }
 },
 "nbformat": 4,
 "nbformat_minor": 2
}

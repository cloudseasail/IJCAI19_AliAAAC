{
 "cells": [
  {
   "cell_type": "code",
   "execution_count": 1,
   "metadata": {},
   "outputs": [
    {
     "name": "stderr",
     "output_type": "stream",
     "text": [
      "Using TensorFlow backend.\n"
     ]
    }
   ],
   "source": [
    "import sys\n",
    "sys.path.append(\"../../\")\n",
    "# print(sys.path)\n",
    "\n",
    "from IJCAI19.test.DefenseTest import *\n",
    "# InitGlobal()\n",
    "\n",
    "from attack import *\n",
    "tf.flags.DEFINE_string(\n",
    "        'dev_dir', '', 'dev directory with images.')\n",
    "FLAGS.dev_dir = \"../../../official_data/dev_data/\"\n",
    "\n",
    "FLAGS.input_dir = \"../../../test_data/NonTargetAttackResult/\"\n",
    "FLAGS.output_file = \"../../../test_data/DefenseResult.csv\"\n",
    "FLAGS.weight_path = \"../../IJCAI19/weight/\"\n",
    "FLAGS.batch_size = 8\n",
    "\n",
    "ModelFactory.WEIGHT_DIR = FLAGS.weight_path\n",
    "TARGET_ATTACK = False\n"
   ]
  },
  {
   "cell_type": "code",
   "execution_count": 5,
   "metadata": {},
   "outputs": [
    {
     "name": "stdout",
     "output_type": "stream",
     "text": [
      "loaded keras model from  ../../IJCAI19/weight/xception_19/keras_xception_19.h5\n",
      "correct 86/110,  Score 1479.0170948302339\n"
     ]
    }
   ],
   "source": [
    "batch_shape = [FLAGS.batch_size, FLAGS.image_height, FLAGS.image_width, 3]\n",
    "name = \"keras_xception_19\"\n",
    "D = ModelFactory.create(name=name, nb_classes=FLAGS.num_classes)\n",
    "defense(D)\n",
    "\n",
    "Validate()\n",
    "D.clear_session()"
   ]
  },
  {
   "cell_type": "code",
   "execution_count": 3,
   "metadata": {},
   "outputs": [
    {
     "name": "stdout",
     "output_type": "stream",
     "text": [
      "INFO:tensorflow:Restoring parameters from ../../IJCAI19/weight/resnet_v1_50/model.ckpt-49800\n",
      "correct 13/110,  Score 209.59711937750475\n"
     ]
    }
   ],
   "source": [
    "batch_shape = [FLAGS.batch_size, FLAGS.image_height, FLAGS.image_width, 3]\n",
    "name = \"resnetv1_50\"\n",
    "D = ModelFactory.create(name=name, nb_classes=FLAGS.num_classes)\n",
    "defense(D)\n",
    "\n",
    "Validate()\n",
    "D.clear_session()"
   ]
  },
  {
   "cell_type": "code",
   "execution_count": 6,
   "metadata": {},
   "outputs": [
    {
     "data": {
      "text/plain": [
       "13.445454545454545"
      ]
     },
     "execution_count": 6,
     "metadata": {},
     "output_type": "execute_result"
    }
   ],
   "source": [
    "1479/110"
   ]
  },
  {
   "cell_type": "code",
   "execution_count": null,
   "metadata": {},
   "outputs": [],
   "source": []
  }
 ],
 "metadata": {
  "kernelspec": {
   "display_name": "Python 3",
   "language": "python",
   "name": "python3"
  },
  "language_info": {
   "codemirror_mode": {
    "name": "ipython",
    "version": 3
   },
   "file_extension": ".py",
   "mimetype": "text/x-python",
   "name": "python",
   "nbconvert_exporter": "python",
   "pygments_lexer": "ipython3",
   "version": "3.6.8"
  }
 },
 "nbformat": 4,
 "nbformat_minor": 2
}

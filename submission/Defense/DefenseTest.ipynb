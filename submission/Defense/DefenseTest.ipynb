{
 "cells": [
  {
   "cell_type": "code",
   "execution_count": 5,
   "metadata": {},
   "outputs": [
    {
     "name": "stdout",
     "output_type": "stream",
     "text": [
      "['C:\\\\ProgramData\\\\Miniconda3\\\\python36.zip', 'C:\\\\ProgramData\\\\Miniconda3\\\\DLLs', 'C:\\\\ProgramData\\\\Miniconda3\\\\lib', 'C:\\\\ProgramData\\\\Miniconda3', '', 'C:\\\\ProgramData\\\\Miniconda3\\\\lib\\\\site-packages', 'C:\\\\ProgramData\\\\Miniconda3\\\\lib\\\\site-packages\\\\win32', 'C:\\\\ProgramData\\\\Miniconda3\\\\lib\\\\site-packages\\\\win32\\\\lib', 'C:\\\\ProgramData\\\\Miniconda3\\\\lib\\\\site-packages\\\\Pythonwin', 'C:\\\\ProgramData\\\\Miniconda3\\\\lib\\\\site-packages\\\\IPython\\\\extensions', 'C:\\\\Users\\\\ywilliam\\\\.ipython', '../../', '../../', '../../', '../../']\n"
     ]
    }
   ],
   "source": [
    "import sys\n",
    "sys.path.append(\"../../\")\n",
    "print(sys.path)\n",
    "\n",
    "from defense import *\n",
    "FLAGS.input_dir = \"../../../test_data/NonTargetAttackResult/\"\n",
    "FLAGS.output_file = \"../../../test_data/DefenseResult.txt\"\n",
    "FLAGS.weight_path = \"../../IJCAI19/weight/\"\n",
    "FLAGS.batch_size = 8\n",
    "\n",
    "dev_dir = \"../../../official_data/dev_data/\"\n",
    "\n",
    "from IJCAI19.model.BatchModel import *\n",
    "ModelFactory.WEIGHT_DIR = FLAGS.weight_path"
   ]
  },
  {
   "cell_type": "code",
   "execution_count": 6,
   "metadata": {},
   "outputs": [
    {
     "name": "stdout",
     "output_type": "stream",
     "text": [
      "MSBModel () {'batch_shape': [8, 299, 299, 3], 'output_size': 110, 'name': 'inception_v1', 'use_prob': True}\n",
      "INFO:tensorflow:Restoring parameters from ../../IJCAI19/weight/inception_v1/inception_v1.ckpt\n"
     ]
    }
   ],
   "source": [
    "batch_shape = [FLAGS.batch_size, FLAGS.image_height, FLAGS.image_width, 3]\n",
    "name = \"inception_v1\"\n",
    "D = MSBModel(msb=20, batch_shape=batch_shape, output_size=FLAGS.num_classes, name=name, use_prob=True)\n",
    "defense(D)"
   ]
  },
  {
   "cell_type": "code",
   "execution_count": null,
   "metadata": {},
   "outputs": [],
   "source": [
    "#Validation\n",
    "#copy dev.csv\n",
    "batch_shape = [FLAGS.batch_size, FLAGS.image_height, FLAGS.image_width, 3]\n",
    "open(FLAGS.output_dir+'dev.csv', \"wb\").write(open(FLAGS.input_dir+'dev.csv', \"rb\").read())\n",
    "img_loader = ImageLoader(FLAGS.output_dir, batch_shape, targetlabel=TARGET_ATTACK, label_size=FLAGS.num_classes, format='png', label_file='dev.csv')\n",
    "name = 'vgg_16'\n",
    "T3 = AttackModel(batch_shape, FLAGS.num_classes, name=name)\n",
    "Yp, topK, acc = PredictBatch(T3, img_loader)"
   ]
  },
  {
   "cell_type": "code",
   "execution_count": null,
   "metadata": {},
   "outputs": [],
   "source": [
    "#calc\n",
    "all_shape = (110, batch_shape[1], batch_shape[2], batch_shape[3])\n",
    "img_loader = ImageLoader(FLAGS.input_dir, all_shape, targetlabel=False, label_size=FLAGS.num_classes, format='png', label_file='dev.csv')\n",
    "_, X, Y = next(img_loader)\n",
    "img_loader = ImageLoader(FLAGS.output_dir, all_shape, targetlabel=TARGET_ATTACK, label_size=FLAGS.num_classes, format='png', label_file='dev.csv')\n",
    "_, Xadv, Yadv = next(img_loader)\n",
    "\n",
    "print(X.shape, Xadv.shape, Y.shape, Yadv.shape)\n",
    "print(\" mean L2:\", calc_l2(X, Xadv))\n",
    "print(\"Score and succ:\", calc_score(X, Xadv, Yadv.argmax(1), Yp, target=TARGET_ATTACK))"
   ]
  },
  {
   "cell_type": "code",
   "execution_count": null,
   "metadata": {},
   "outputs": [],
   "source": [
    "plot_images(X, Xadv)"
   ]
  },
  {
   "cell_type": "code",
   "execution_count": null,
   "metadata": {},
   "outputs": [],
   "source": [
    "Y.argmax(1)"
   ]
  },
  {
   "cell_type": "code",
   "execution_count": null,
   "metadata": {},
   "outputs": [],
   "source": [
    "Yadv.argmax(1)"
   ]
  },
  {
   "cell_type": "code",
   "execution_count": null,
   "metadata": {},
   "outputs": [],
   "source": [
    "Yp"
   ]
  },
  {
   "cell_type": "code",
   "execution_count": null,
   "metadata": {},
   "outputs": [],
   "source": []
  }
 ],
 "metadata": {
  "kernelspec": {
   "display_name": "Python 3",
   "language": "python",
   "name": "python3"
  },
  "language_info": {
   "codemirror_mode": {
    "name": "ipython",
    "version": 3
   },
   "file_extension": ".py",
   "mimetype": "text/x-python",
   "name": "python",
   "nbconvert_exporter": "python",
   "pygments_lexer": "ipython3",
   "version": "3.6.8"
  }
 },
 "nbformat": 4,
 "nbformat_minor": 2
}

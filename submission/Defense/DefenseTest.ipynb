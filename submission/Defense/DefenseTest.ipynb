{
 "cells": [
  {
   "cell_type": "code",
   "execution_count": 1,
   "metadata": {},
   "outputs": [
    {
     "name": "stderr",
     "output_type": "stream",
     "text": [
      "Using TensorFlow backend.\n"
     ]
    }
   ],
   "source": [
    "import sys\n",
    "sys.path.append(\"../../\")\n",
    "# print(sys.path)\n",
    "\n",
    "from IJCAI19.test.DefenseTest import *\n",
    "# InitGlobal()\n",
    "\n",
    "from attack import *\n",
    "tf.flags.DEFINE_string(\n",
    "        'dev_dir', '', 'dev directory with images.')\n",
    "FLAGS.dev_dir = \"../../../official_data/dev_data/\"\n",
    "\n",
    "FLAGS.input_dir = \"../../../test_data/NonTargetAttackResult/\"\n",
    "FLAGS.output_file = \"../../../test_data/DefenseResult.csv\"\n",
    "FLAGS.weight_path = \"../../IJCAI19/weight/\"\n",
    "FLAGS.batch_size = 8\n",
    "\n",
    "ModelFactory.WEIGHT_DIR = FLAGS.weight_path\n",
    "TARGET_ATTACK = False\n",
    "\n",
    "from IJCAI19.model.RandomDefense import RandomDefense\n",
    " "
   ]
  },
  {
   "cell_type": "code",
   "execution_count": 2,
   "metadata": {},
   "outputs": [],
   "source": [
    "global_use_cpu()\n",
    "FLAGS.batch_size = 32"
   ]
  },
  {
   "cell_type": "code",
   "execution_count": 5,
   "metadata": {},
   "outputs": [
    {
     "name": "stdout",
     "output_type": "stream",
     "text": [
      "without random_transform\n",
      "loaded keras model from  ../../IJCAI19/weight/xception_19/keras_xception_19.h5\n",
      "without random_transform\n",
      "loaded keras model from  ../../IJCAI19/weight/nasnet/keras_nasnet_large.h5\n",
      "correct 77/110,  Score 27.81301366710879\n"
     ]
    },
    {
     "data": {
      "text/plain": [
       "27.81301366710879"
      ]
     },
     "execution_count": 5,
     "metadata": {},
     "output_type": "execute_result"
    }
   ],
   "source": [
    "batch_shape = [FLAGS.batch_size, FLAGS.image_height, FLAGS.image_width, 3]\n",
    "name = \"inception_v1\"\n",
    "T1 = RandomDefense(FLAGS.num_classes, name=name)\n",
    "T1.random(\n",
    "        msb_max=16, msb_rate=1, \n",
    "        rotation_range=20,\n",
    "        width_shift_range=0.05,\n",
    "        height_shift_range=0.05,\n",
    "#         shear_range=0.05\n",
    ")\n",
    "name = \"resnetv1_50\"\n",
    "T2 = RandomDefense(FLAGS.num_classes, name=name)\n",
    "T2.random(\n",
    "        msb_max=16, msb_rate=1, \n",
    "        rotation_range=20,\n",
    "        width_shift_range=0.05,\n",
    "        height_shift_range=0.05,\n",
    "#         shear_range=0.05\n",
    ")\n",
    "name = \"vgg_16\"\n",
    "T3 = RandomDefense(FLAGS.num_classes, name=name)\n",
    "T3.random(\n",
    "        msb_max=16, msb_rate=1, \n",
    "        rotation_range=20,\n",
    "        width_shift_range=0.05,\n",
    "        height_shift_range=0.05,\n",
    "#         shear_range=0.05\n",
    ")\n",
    "\n",
    "name = \"keras_xception_19\"\n",
    "T11 = RandomDefense(FLAGS.num_classes, name=name)\n",
    "name = \"keras_nasnet_large\"\n",
    "T12 = RandomDefense(FLAGS.num_classes, name=name)\n",
    "\n",
    "D = EmbeddedDefenseModel(\"\")\n",
    "D.add_model(T11, weight=1)\n",
    "D.add_model(T12, weight=1)\n",
    "#     D.add_model(T2, weight=1)\n",
    "#     D.add_model(T3, weight=1)\n",
    "\n",
    "defense(D, repeat=1)\n",
    "\n",
    "Validate()\n"
   ]
  },
  {
   "cell_type": "code",
   "execution_count": null,
   "metadata": {},
   "outputs": [],
   "source": []
  }
 ],
 "metadata": {
  "kernelspec": {
   "display_name": "Python 3",
   "language": "python",
   "name": "python3"
  },
  "language_info": {
   "codemirror_mode": {
    "name": "ipython",
    "version": 3
   },
   "file_extension": ".py",
   "mimetype": "text/x-python",
   "name": "python",
   "nbconvert_exporter": "python",
   "pygments_lexer": "ipython3",
   "version": "3.6.8"
  }
 },
 "nbformat": 4,
 "nbformat_minor": 2
}

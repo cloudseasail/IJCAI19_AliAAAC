{
 "cells": [
  {
   "cell_type": "code",
   "execution_count": 2,
   "metadata": {},
   "outputs": [
    {
     "name": "stdout",
     "output_type": "stream",
     "text": [
      "['C:\\\\ProgramData\\\\Miniconda3\\\\python36.zip', 'C:\\\\ProgramData\\\\Miniconda3\\\\DLLs', 'C:\\\\ProgramData\\\\Miniconda3\\\\lib', 'C:\\\\ProgramData\\\\Miniconda3', '', 'C:\\\\ProgramData\\\\Miniconda3\\\\lib\\\\site-packages', 'C:\\\\ProgramData\\\\Miniconda3\\\\lib\\\\site-packages\\\\win32', 'C:\\\\ProgramData\\\\Miniconda3\\\\lib\\\\site-packages\\\\win32\\\\lib', 'C:\\\\ProgramData\\\\Miniconda3\\\\lib\\\\site-packages\\\\Pythonwin', 'C:\\\\ProgramData\\\\Miniconda3\\\\lib\\\\site-packages\\\\IPython\\\\extensions', 'C:\\\\Users\\\\ywilliam\\\\.ipython', '../../', '../../']\n"
     ]
    },
    {
     "name": "stderr",
     "output_type": "stream",
     "text": [
      "Using TensorFlow backend.\n"
     ]
    }
   ],
   "source": [
    "import sys\n",
    "sys.path.append(\"../../\")\n",
    "print(sys.path)\n",
    "\n",
    "from attack import *\n",
    "FLAGS.input_dir = \"../../../test_data/NonTargetAttackResult/\"\n",
    "FLAGS.output_file = \"../../../test_data/DefenseResult.txt\"\n",
    "FLAGS.weight_path = \"../../IJCAI19/weight/\"\n",
    "FLAGS.batch_size = 8\n",
    "\n",
    "dev_dir = \"../../../official_data/dev_data/\"\n",
    "\n",
    "ModelFactory.WEIGHT_DIR = FLAGS.weight_path\n",
    "TARGET_ATTACK = False"
   ]
  },
  {
   "cell_type": "code",
   "execution_count": 4,
   "metadata": {},
   "outputs": [],
   "source": [
    "FLAGS.input_dir = \"../../../test_data/NonTargetAttackResult/\""
   ]
  },
  {
   "cell_type": "code",
   "execution_count": 6,
   "metadata": {},
   "outputs": [
    {
     "name": "stdout",
     "output_type": "stream",
     "text": [
      "loaded keras model from  ../../IJCAI19/weight/xception_19/keras_xception_19.h5\n"
     ]
    },
    {
     "data": {
      "text/plain": [
       "0.8818181818181818"
      ]
     },
     "execution_count": 6,
     "metadata": {},
     "output_type": "execute_result"
    }
   ],
   "source": [
    "batch_shape = [FLAGS.batch_size, FLAGS.image_height, FLAGS.image_width, 3]\n",
    "name = \"keras_xception_19\"\n",
    "D = ModelFactory.create(name=name, nb_classes=FLAGS.num_classes)\n",
    "\n",
    "# img_loader = ImageLoader(FLAGS.input_dir, batch_shape, label_size=None, format='png', labels=None)\n",
    "img_loader = ImageLoader(FLAGS.input_dir, batch_shape, targetlabel=False, label_size=FLAGS.num_classes, format='png', label_file='dev.csv')\n",
    "\n",
    "config = gpu_session_config()\n",
    "total_ypred = []\n",
    "# with tf.Session(config=config) as sess:\n",
    "for filenames, X, _ in img_loader:\n",
    "    ypred = D.predict_batch(X, None)\n",
    "    total_ypred = total_ypred+[ypred]\n",
    "            \n",
    "total_ypred = np.concatenate(total_ypred)\n",
    "\n",
    "all_shape = [110, FLAGS.image_height, FLAGS.image_width, 3]\n",
    "img_loader = ImageLoader(dev_dir, all_shape, targetlabel=False, label_size=FLAGS.num_classes, format='png', label_file='dev.csv')\n",
    "_,X,Y = next(img_loader)\n",
    "Y = Y.argmax(1)\n",
    "X[total_ypred==Y].shape[0]/X.shape[0]"
   ]
  },
  {
   "cell_type": "code",
   "execution_count": 5,
   "metadata": {},
   "outputs": [
    {
     "name": "stdout",
     "output_type": "stream",
     "text": [
      "loaded keras model from  ../../IJCAI19/weight/xception_19/keras_xception_19.h5\n"
     ]
    }
   ],
   "source": [
    "batch_shape = [FLAGS.batch_size, FLAGS.image_height, FLAGS.image_width, 3]\n",
    "name = \"keras_xception_19\"\n",
    "D = ModelFactory.create(name=name, nb_classes=FLAGS.num_classes)\n",
    "defense(D)\n",
    "\n",
    "D.clear_session()"
   ]
  },
  {
   "cell_type": "code",
   "execution_count": null,
   "metadata": {},
   "outputs": [],
   "source": []
  }
 ],
 "metadata": {
  "kernelspec": {
   "display_name": "Python 3",
   "language": "python",
   "name": "python3"
  }
 },
 "nbformat": 4,
 "nbformat_minor": 2
}

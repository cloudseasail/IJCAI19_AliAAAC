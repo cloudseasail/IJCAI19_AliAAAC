{
 "cells": [
  {
   "cell_type": "code",
   "execution_count": 1,
   "metadata": {},
   "outputs": [
    {
     "name": "stderr",
     "output_type": "stream",
     "text": [
      "Using TensorFlow backend.\n"
     ]
    }
   ],
   "source": [
    "import sys\n",
    "sys.path.append(\"../../\")\n",
    "# print(sys.path)\n",
    "\n",
    "from IJCAI19.test.AttackTest import *\n",
    "\n",
    "from attack import *\n",
    "FLAGS.input_dir = \"../../../official_data/dev_data/\"\n",
    "FLAGS.output_dir = \"../../../test_data/NonTargetAttackResult/\"\n",
    "FLAGS.weight_path = \"../../IJCAI19/weight/\"\n",
    "FLAGS.batch_size = 4\n",
    "\n",
    "ModelFactory.WEIGHT_DIR = FLAGS.weight_path"
   ]
  },
  {
   "cell_type": "code",
   "execution_count": 2,
   "metadata": {},
   "outputs": [
    {
     "name": "stdout",
     "output_type": "stream",
     "text": [
      "{'ep_ratio': 0.1, 'nb_iter': 10, 'target': False, 'eps': 25.5, 'eps_iter': 2.55, 'y': <tf.Tensor 'output:0' shape=(?, 110) dtype=float32>, 'clip_min': 0, 'clip_max': 255}\n"
     ]
    },
    {
     "name": "stderr",
     "output_type": "stream",
     "text": [
      "C:\\ProgramData\\Miniconda3\\lib\\site-packages\\cleverhans\\attacks\\__init__.py:405: UserWarning: kwargs is unused and will be removed on or after 2019-04-26.\n",
      "  warnings.warn(\"kwargs is unused and will be removed on or after \"\n"
     ]
    },
    {
     "name": "stdout",
     "output_type": "stream",
     "text": [
      "INFO:tensorflow:Restoring parameters from ../../IJCAI19/weight/inception_v1/inception_v1.ckpt\n"
     ]
    }
   ],
   "source": [
    "# M = GradSmoothMomentumIterativeMethod\n",
    "TARGET_ATTACK = False\n",
    "from cleverhans.attacks import FastGradientMethod\n",
    "M = FastGradientMethod\n",
    "#non targeted with guessed label\n",
    "attack_params = {\"ep_ratio\": 0.1, \"nb_iter\": 10, \"target\":TARGET_ATTACK}\n",
    "attack(M, attack_params, targetlabel=TARGET_ATTACK)"
   ]
  },
  {
   "cell_type": "code",
   "execution_count": 3,
   "metadata": {},
   "outputs": [
    {
     "name": "stdout",
     "output_type": "stream",
     "text": [
      "{'ep_ratio': 0.1, 'nb_iter': 10, 'target': False, 'eps': 25.5, 'eps_iter': 2.55, 'y': <tf.Tensor 'output:0' shape=(?, 110) dtype=float32>, 'clip_min': 0, 'clip_max': 255}\n"
     ]
    },
    {
     "name": "stderr",
     "output_type": "stream",
     "text": [
      "../..\\IJCAI19\\module\\gs_mim.py:204: UserWarning: kwargs is unused and will be removed on or after 2019-04-26.\n",
      "  warnings.warn(\"kwargs is unused and will be removed on or after \"\n"
     ]
    },
    {
     "name": "stdout",
     "output_type": "stream",
     "text": [
      "INFO:tensorflow:Restoring parameters from ../../IJCAI19/weight/inception_v1/inception_v1.ckpt\n",
      "Attack  runs: 52.88 s\n"
     ]
    }
   ],
   "source": [
    "batch_shape = [FLAGS.batch_size, FLAGS.image_height, FLAGS.image_width, 3]\n",
    "TARGET_ATTACK = False\n",
    "\n",
    "name = 'inception_v1'\n",
    "T1 = AttackModel(batch_shape, FLAGS.num_classes, name=name)\n",
    "name = 'resnetv1_50'\n",
    "T2 = AttackModel(batch_shape, FLAGS.num_classes, name=name)\n",
    "name = 'vgg_16'\n",
    "T3 = AttackModel(batch_shape, FLAGS.num_classes, name=name)\n",
    "\n",
    "A = EmbeddedAttackModel(batch_shape, FLAGS.num_classes)\n",
    "A.add_model(T1)\n",
    "\n",
    "#Attack with A\n",
    "M = GradSmoothMomentumIterativeMethod\n",
    "attack_params = {\"ep_ratio\": 0.1, \"nb_iter\": 10, \"target\":TARGET_ATTACK}\n",
    "Attack(A, M, attack_params, targetlabel=TARGET_ATTACK)\n",
    "\n",
    "# Validate model\n",
    "name = 'vgg_16'\n",
    "T2 = AttackModel(batch_shape, FLAGS.num_classes, name=name)\n",
    "Yp, topK, acc = Predict(T2, FLAGS.output_dir, targetlabel=TARGET_ATTACK)\n",
    "X, Y, Xadv, Yadv = Score(Yp, TARGET_ATTACK)"
   ]
  },
  {
   "cell_type": "code",
   "execution_count": null,
   "metadata": {},
   "outputs": [],
   "source": [
    "plot_images(X, Xadv)"
   ]
  },
  {
   "cell_type": "code",
   "execution_count": null,
   "metadata": {},
   "outputs": [],
   "source": [
    "# test_dir = \"C:\\\\users\\\\ywilliam\\\\docker\\\\out_data\\\\\"\n",
    "# batch_shape = [FLAGS.batch_size, FLAGS.image_height, FLAGS.image_width, 3]\n",
    "# img_loader = ImageLoader(test_dir, batch_shape, targetlabel=False, label_size=FLAGS.num_classes, format='png', label_file='dev.csv')\n",
    "# T3 = AttackModel(batch_shape, FLAGS.num_classes, name=name)\n",
    "# Yp, topK, acc = T3.evaluate_generator(img_loader, batch_shape)\n",
    "\n",
    "# #calc\n",
    "# all_shape = (110, batch_shape[1], batch_shape[2], batch_shape[3])\n",
    "# img_loader = ImageLoader(FLAGS.input_dir, all_shape, targetlabel=False, label_size=FLAGS.num_classes, format='png', label_file='dev.csv')\n",
    "# _, X, Y = next(img_loader)\n",
    "# img_loader = ImageLoader(test_dir, all_shape, targetlabel=False, label_size=FLAGS.num_classes, format='png', label_file='dev.csv')\n",
    "# _, Xadv, Yadv = next(img_loader)\n",
    "\n",
    "# print(X.shape, Xadv.shape, Y.shape, Yadv.shape)\n",
    "# print(\" mean L2:\", calc_l2(X, Xadv))\n",
    "# print(\"Score:\", calc_score(X, Xadv, Y.argmax(1), Yp))"
   ]
  },
  {
   "cell_type": "code",
   "execution_count": 3,
   "metadata": {},
   "outputs": [
    {
     "name": "stdout",
     "output_type": "stream",
     "text": [
      "INFO:tensorflow:Restoring parameters from ../../IJCAI19/weight/vgg_16/vgg_16.ckpt\n",
      "(4,) (4,)\n",
      "(4,) (8,)\n",
      "(4,) (12,)\n",
      "(4,) (16,)\n",
      "(4,) (20,)\n",
      "(4,) (24,)\n",
      "(4,) (28,)\n",
      "(4,) (32,)\n",
      "(4,) (36,)\n",
      "(4,) (40,)\n",
      "(4,) (44,)\n",
      "(4,) (48,)\n",
      "(4,) (52,)\n",
      "(4,) (56,)\n",
      "(4,) (60,)\n",
      "(4,) (64,)\n",
      "(4,) (68,)\n",
      "(4,) (72,)\n",
      "(4,) (76,)\n",
      "(4,) (80,)\n",
      "(4,) (84,)\n",
      "(4,) (88,)\n",
      "(4,) (92,)\n",
      "(4,) (96,)\n",
      "(4,) (100,)\n",
      "(4,) (104,)\n",
      "(4,) (108,)\n",
      "(2,) (110,)\n",
      "Predict  runs: 19.83 s\n",
      "batchs 28 Accuracy 0.20909090909090908\n",
      "(110, 299, 299, 3) (110, 299, 299, 3) (110, 110) (110, 110)\n",
      "Mean L2 39.6580,  Score 58.3692, Attack Success Rate 0.7909\n"
     ]
    }
   ],
   "source": [
    "# Validate model\n",
    "TARGET_ATTACK=False\n",
    "name = 'vgg_16'\n",
    "T2 = AttackModel(batch_shape, FLAGS.num_classes, name=name)\n",
    "Yp, topK, acc = Predict(T2, FLAGS.output_dir, targetlabel=TARGET_ATTACK)\n",
    "X, Y, Xadv, Yadv = Score(Yp, TARGET_ATTACK)\n",
    "T2.clear_session()"
   ]
  },
  {
   "cell_type": "code",
   "execution_count": null,
   "metadata": {},
   "outputs": [],
   "source": []
  }
 ],
 "metadata": {
  "kernelspec": {
   "display_name": "Python 3",
   "language": "python",
   "name": "python3"
  },
  "language_info": {
   "codemirror_mode": {
    "name": "ipython",
    "version": 3
   },
   "file_extension": ".py",
   "mimetype": "text/x-python",
   "name": "python",
   "nbconvert_exporter": "python",
   "pygments_lexer": "ipython3",
   "version": "3.6.8"
  }
 },
 "nbformat": 4,
 "nbformat_minor": 2
}

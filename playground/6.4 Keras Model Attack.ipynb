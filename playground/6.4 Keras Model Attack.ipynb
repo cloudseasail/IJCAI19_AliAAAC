{
 "cells": [
  {
   "cell_type": "code",
   "execution_count": 1,
   "metadata": {},
   "outputs": [
    {
     "name": "stderr",
     "output_type": "stream",
     "text": [
      "Using TensorFlow backend.\n"
     ]
    }
   ],
   "source": [
    "import sys\n",
    "sys.path.append(\"../\")\n",
    "\n",
    "#use CPU\n",
    "import os\n",
    "os.environ['CUDA_VISIBLE_DEVICES'] = '-1'\n",
    "\n",
    "import tensorflow as tf\n",
    "from IJCAI19.test.AttackTest import *\n",
    "\n",
    "InitGlobal()\n",
    "TARGET_ATTACK = False\n"
   ]
  },
  {
   "cell_type": "code",
   "execution_count": null,
   "metadata": {},
   "outputs": [
    {
     "name": "stdout",
     "output_type": "stream",
     "text": [
      "loaded keras model from  ../IJCAI19/weight/xception_19/keras_xception_19.h5\n",
      "{'ep_ratio': 0.1, 'nb_iter': 2, 'target': False, 'eps': 25.5, 'eps_iter': 12.75, 'y': <tf.Tensor 'output:0' shape=(?, 110) dtype=float32>, 'clip_min': 0, 'clip_max': 255}\n"
     ]
    },
    {
     "name": "stderr",
     "output_type": "stream",
     "text": [
      "C:\\ProgramData\\Miniconda3\\lib\\site-packages\\cleverhans\\attacks\\__init__.py:405: UserWarning: kwargs is unused and will be removed on or after 2019-04-26.\n",
      "  warnings.warn(\"kwargs is unused and will be removed on or after \"\n"
     ]
    },
    {
     "name": "stdout",
     "output_type": "stream",
     "text": [
      "Attack  runs: 234.61 s\n",
      "INFO:tensorflow:Restoring parameters from ../IJCAI19/weight/vgg_16/vgg_16.ckpt\n",
      "Predict  runs: 42.04 s\n",
      "batchs 28 Accuracy 0.44545454545454544\n",
      "(110, 299, 299, 3) (110, 299, 299, 3) (110, 110) (110, 110)\n"
     ]
    }
   ],
   "source": [
    "batch_shape = [FLAGS.batch_size, FLAGS.image_height, FLAGS.image_width, 3]\n",
    "# Attack model\n",
    "name = 'keras_xception_19'\n",
    "attack_params = {\"ep_ratio\": 0.1, \"nb_iter\": 2, \"target\":TARGET_ATTACK}\n",
    "T11 = AttackModel(batch_shape, FLAGS.num_classes, name=name)\n",
    "A = EmbeddedAttackModel(batch_shape, FLAGS.num_classes)\n",
    "A.add_model(T11)\n",
    "# Attack(A, GradSmoothMomentumIterativeMethod, attack_params, TARGET_ATTACK)\n",
    "Attack(A, FastGradientMethod, attack_params, TARGET_ATTACK)\n",
    "# Validate model\n",
    "name = 'vgg_16'\n",
    "T2 = AttackModel(batch_shape, FLAGS.num_classes, name=name)\n",
    "Yp, topK, acc = Predict(T2, FLAGS.output_dir, targetlabel=TARGET_ATTACK)\n",
    "X, Y, Xadv, Yadv = Score(Yp, TARGET_ATTACK)"
   ]
  },
  {
   "cell_type": "code",
   "execution_count": null,
   "metadata": {},
   "outputs": [],
   "source": [
    "plot_images(X,Xadv)"
   ]
  },
  {
   "cell_type": "code",
   "execution_count": null,
   "metadata": {},
   "outputs": [],
   "source": []
  }
 ],
 "metadata": {
  "kernelspec": {
   "display_name": "Python 3",
   "language": "python",
   "name": "python3"
  },
  "language_info": {
   "codemirror_mode": {
    "name": "ipython",
    "version": 3
   },
   "file_extension": ".py",
   "mimetype": "text/x-python",
   "name": "python",
   "nbconvert_exporter": "python",
   "pygments_lexer": "ipython3",
   "version": "3.6.8"
  }
 },
 "nbformat": 4,
 "nbformat_minor": 2
}

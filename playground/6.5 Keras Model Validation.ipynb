{
 "cells": [
  {
   "cell_type": "code",
   "execution_count": 1,
   "metadata": {},
   "outputs": [
    {
     "name": "stderr",
     "output_type": "stream",
     "text": [
      "Using TensorFlow backend.\n"
     ]
    }
   ],
   "source": [
    "import sys\n",
    "sys.path.append(\"../\")\n",
    "\n",
    "import tensorflow as tf\n",
    "from IJCAI19.test.AttackTest import *\n",
    "\n",
    "InitGlobal()\n",
    "TARGET_ATTACK = False\n",
    "\n",
    "from keras.models import load_model\n",
    "from IJCAI19.model.KerasModel import *\n",
    "\n",
    "FLAGS.batch_size = 12\n",
    "batch_shape = [FLAGS.batch_size, FLAGS.image_height, FLAGS.image_width, 3]\n"
   ]
  },
  {
   "cell_type": "code",
   "execution_count": 2,
   "metadata": {},
   "outputs": [],
   "source": [
    "# name = \"keras_xception_19\"\n",
    "name = \"keras_nasnet_large\"\n",
    "model = ModelFactory.create(name, FLAGS.num_classes)\n",
    "file_name = name + '.h5'"
   ]
  },
  {
   "cell_type": "code",
   "execution_count": 3,
   "metadata": {},
   "outputs": [
    {
     "name": "stdout",
     "output_type": "stream",
     "text": [
      "loaded keras model from  \\\\rfsw-bj3\\Develop\\IJCAI2019\\IJCAI19_AliAAAC\\jobs\\model/keras_nasnet_large.h5\n",
      "keras_nasnet_largeevaluate_generator  runs: 2609.68 s\n",
      "dev accuracy 0.9181818181818182\n",
      "loaded keras model from  \\\\rfsw-bj3\\Develop\\IJCAI2019\\IJCAI19_AliAAAC\\jobs\\model/keras_nasnet_large.h5\n",
      "keras_nasnet_largeevaluate_generator  runs: 2703.62 s\n",
      "adv accuracy 0.7181818181818181\n"
     ]
    }
   ],
   "source": [
    "model.weight_path = '\\\\\\\\rfsw-bj3\\\\Develop\\\\IJCAI2019\\\\IJCAI19_AliAAAC\\\\jobs\\\\model/' + file_name\n",
    "# model.reload()\n",
    "\n",
    "img_loader = ImageLoader(FLAGS.input_dir, batch_shape, targetlabel=TARGET_ATTACK, label_size=FLAGS.num_classes, format='png', label_file='dev.csv')\n",
    "ypred,_, acc = model.evaluate_generator(img_loader)\n",
    "print('dev accuracy',acc)\n",
    "# model.clear_session()\n",
    "\n",
    "img_loader = ImageLoader(FLAGS.output_dir, batch_shape, targetlabel=TARGET_ATTACK, label_size=FLAGS.num_classes, format='png', label_file='dev.csv')\n",
    "ypred,_, acc = model.evaluate_generator(img_loader)\n",
    "print('adv accuracy',acc)\n",
    "model.clear_session()"
   ]
  },
  {
   "cell_type": "code",
   "execution_count": 4,
   "metadata": {
    "scrolled": true
   },
   "outputs": [
    {
     "name": "stderr",
     "output_type": "stream",
     "text": [
      "Exception ignored in: <bound method BaseSession._Callable.__del__ of <tensorflow.python.client.session.BaseSession._Callable object at 0x00000179B856C0B8>>\n",
      "Traceback (most recent call last):\n",
      "  File \"C:\\Users\\YWILLIAM\\AppData\\Local\\Continuum\\miniconda3\\lib\\site-packages\\tensorflow\\python\\client\\session.py\", line 1455, in __del__\n",
      "    self._session._session, self._handle, status)\n",
      "  File \"C:\\Users\\YWILLIAM\\AppData\\Local\\Continuum\\miniconda3\\lib\\site-packages\\tensorflow\\python\\framework\\errors_impl.py\", line 528, in __exit__\n",
      "    c_api.TF_GetCode(self.status.status))\n",
      "tensorflow.python.framework.errors_impl.CancelledError: Session has been closed.\n"
     ]
    },
    {
     "name": "stdout",
     "output_type": "stream",
     "text": [
      "loaded keras model from  \\\\rfsw-bj3\\Develop\\IJCAI2019\\IJCAI19_AliAAAC\\jobs\\logs/keras_nasnet_large.h5\n",
      "keras_nasnet_largeevaluate_generator  runs: 2710.15 s\n",
      "dev accuracy 0.9363636363636364\n"
     ]
    },
    {
     "name": "stderr",
     "output_type": "stream",
     "text": [
      "Exception ignored in: <bound method BaseSession._Callable.__del__ of <tensorflow.python.client.session.BaseSession._Callable object at 0x0000017ACF5FCC18>>\n",
      "Traceback (most recent call last):\n",
      "  File \"C:\\Users\\YWILLIAM\\AppData\\Local\\Continuum\\miniconda3\\lib\\site-packages\\tensorflow\\python\\client\\session.py\", line 1455, in __del__\n",
      "    self._session._session, self._handle, status)\n",
      "  File \"C:\\Users\\YWILLIAM\\AppData\\Local\\Continuum\\miniconda3\\lib\\site-packages\\tensorflow\\python\\framework\\errors_impl.py\", line 528, in __exit__\n",
      "    c_api.TF_GetCode(self.status.status))\n",
      "tensorflow.python.framework.errors_impl.CancelledError: Session has been closed.\n"
     ]
    },
    {
     "name": "stdout",
     "output_type": "stream",
     "text": [
      "loaded keras model from  \\\\rfsw-bj3\\Develop\\IJCAI2019\\IJCAI19_AliAAAC\\jobs\\logs/keras_nasnet_large.h5\n",
      "keras_nasnet_largeevaluate_generator  runs: 2638.44 s\n",
      "adv accuracy 0.7818181818181819\n"
     ]
    }
   ],
   "source": [
    "model.weight_path = '\\\\\\\\rfsw-bj3\\\\Develop\\\\IJCAI2019\\\\IJCAI19_AliAAAC\\\\jobs\\\\logs/' + file_name\n",
    "# model.reload()\n",
    "\n",
    "img_loader = ImageLoader(FLAGS.input_dir, batch_shape, targetlabel=TARGET_ATTACK, label_size=FLAGS.num_classes, format='png', label_file='dev.csv')\n",
    "ypred,_, acc = model.evaluate_generator(img_loader)\n",
    "print('dev accuracy',acc)\n",
    "# model.clear_session()\n",
    "\n",
    "img_loader = ImageLoader(FLAGS.output_dir, batch_shape, targetlabel=TARGET_ATTACK, label_size=FLAGS.num_classes, format='png', label_file='dev.csv')\n",
    "ypred,_, acc = model.evaluate_generator(img_loader)\n",
    "print('adv accuracy',acc)\n",
    "model.clear_session()"
   ]
  },
  {
   "cell_type": "code",
   "execution_count": 5,
   "metadata": {},
   "outputs": [
    {
     "name": "stderr",
     "output_type": "stream",
     "text": [
      "Exception ignored in: <bound method BaseSession._Callable.__del__ of <tensorflow.python.client.session.BaseSession._Callable object at 0x00000179AD328710>>\n",
      "Traceback (most recent call last):\n",
      "  File \"C:\\Users\\YWILLIAM\\AppData\\Local\\Continuum\\miniconda3\\lib\\site-packages\\tensorflow\\python\\client\\session.py\", line 1455, in __del__\n",
      "    self._session._session, self._handle, status)\n",
      "  File \"C:\\Users\\YWILLIAM\\AppData\\Local\\Continuum\\miniconda3\\lib\\site-packages\\tensorflow\\python\\framework\\errors_impl.py\", line 528, in __exit__\n",
      "    c_api.TF_GetCode(self.status.status))\n",
      "tensorflow.python.framework.errors_impl.CancelledError: Session has been closed.\n"
     ]
    },
    {
     "name": "stdout",
     "output_type": "stream",
     "text": [
      "loaded keras model from  \\\\rfsw-bj3\\Develop\\IJCAI2019\\IJCAI19_AliAAAC\\IJCAI19\\weight/nasnet/keras_nasnet_large.h5\n",
      "keras_nasnet_largeevaluate_generator  runs: 2613.26 s\n",
      "dev accuracy 0.9363636363636364\n"
     ]
    },
    {
     "name": "stderr",
     "output_type": "stream",
     "text": [
      "Exception ignored in: <bound method BaseSession._Callable.__del__ of <tensorflow.python.client.session.BaseSession._Callable object at 0x0000017A3186A898>>\n",
      "Traceback (most recent call last):\n",
      "  File \"C:\\Users\\YWILLIAM\\AppData\\Local\\Continuum\\miniconda3\\lib\\site-packages\\tensorflow\\python\\client\\session.py\", line 1455, in __del__\n",
      "    self._session._session, self._handle, status)\n",
      "  File \"C:\\Users\\YWILLIAM\\AppData\\Local\\Continuum\\miniconda3\\lib\\site-packages\\tensorflow\\python\\framework\\errors_impl.py\", line 528, in __exit__\n",
      "    c_api.TF_GetCode(self.status.status))\n",
      "tensorflow.python.framework.errors_impl.CancelledError: Session has been closed.\n"
     ]
    },
    {
     "name": "stdout",
     "output_type": "stream",
     "text": [
      "loaded keras model from  \\\\rfsw-bj3\\Develop\\IJCAI2019\\IJCAI19_AliAAAC\\IJCAI19\\weight/nasnet/keras_nasnet_large.h5\n",
      "keras_nasnet_largeevaluate_generator  runs: 2590.18 s\n",
      "adv accuracy 0.7818181818181819\n"
     ]
    }
   ],
   "source": [
    "model.weight_path = '\\\\\\\\rfsw-bj3\\\\Develop\\\\IJCAI2019\\\\IJCAI19_AliAAAC\\\\IJCAI19\\\\weight/xception_19/' + file_name\n",
    "model.weight_path = '\\\\\\\\rfsw-bj3\\\\Develop\\\\IJCAI2019\\\\IJCAI19_AliAAAC\\\\IJCAI19\\\\weight/nasnet/' + file_name\n",
    "# model.reload()\n",
    "\n",
    "img_loader = ImageLoader(FLAGS.input_dir, batch_shape, targetlabel=TARGET_ATTACK, label_size=FLAGS.num_classes, format='png', label_file='dev.csv')\n",
    "ypred,_, acc = model.evaluate_generator(img_loader)\n",
    "print('dev accuracy',acc)\n",
    "# model.clear_session()\n",
    "\n",
    "img_loader = ImageLoader(FLAGS.output_dir, batch_shape, targetlabel=TARGET_ATTACK, label_size=FLAGS.num_classes, format='png', label_file='dev.csv')\n",
    "ypred,_, acc = model.evaluate_generator(img_loader)\n",
    "print('adv accuracy',acc)\n",
    "model.clear_session()"
   ]
  },
  {
   "cell_type": "markdown",
   "metadata": {},
   "source": [
    "current old best\n",
    "0.92  0.97\n",
    "0.418 0.49"
   ]
  }
 ],
 "metadata": {
  "kernelspec": {
   "display_name": "Python 3",
   "language": "python",
   "name": "python3"
  },
  "language_info": {
   "codemirror_mode": {
    "name": "ipython",
    "version": 3
   },
   "file_extension": ".py",
   "mimetype": "text/x-python",
   "name": "python",
   "nbconvert_exporter": "python",
   "pygments_lexer": "ipython3",
   "version": "3.6.8"
  }
 },
 "nbformat": 4,
 "nbformat_minor": 2
}

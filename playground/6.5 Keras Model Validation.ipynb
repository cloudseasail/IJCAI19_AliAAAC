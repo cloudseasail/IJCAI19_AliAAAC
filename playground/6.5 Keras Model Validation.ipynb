{
 "cells": [
  {
   "cell_type": "code",
   "execution_count": 1,
   "metadata": {},
   "outputs": [
    {
     "name": "stderr",
     "output_type": "stream",
     "text": [
      "Using TensorFlow backend.\n"
     ]
    }
   ],
   "source": [
    "import sys\n",
    "sys.path.append(\"../\")\n",
    "\n",
    "import tensorflow as tf\n",
    "from IJCAI19.test.AttackTest import *\n",
    "\n",
    "InitGlobal()\n",
    "TARGET_ATTACK = False\n",
    "\n",
    "from keras.models import load_model\n",
    "from IJCAI19.model.KerasModel import *\n",
    "\n",
    "FLAGS.batch_size = 4\n",
    "batch_shape = [FLAGS.batch_size, FLAGS.image_height, FLAGS.image_width, 3]\n"
   ]
  },
  {
   "cell_type": "code",
   "execution_count": 4,
   "metadata": {},
   "outputs": [],
   "source": [
    "name = \"keras_xception_19\"\n",
    "model = ModelFactory.create(name, FLAGS.num_classes)"
   ]
  },
  {
   "cell_type": "code",
   "execution_count": 3,
   "metadata": {},
   "outputs": [
    {
     "name": "stdout",
     "output_type": "stream",
     "text": [
      "loaded keras model from  \\\\rfsw-bj3\\Develop\\IJCAI2019\\IJCAI19_AliAAAC\\jobs\\model/keras_xception_19.h5\n",
      "Keras Model,  use_prob==False not implemented!!\n",
      "loaded keras model weights from  \\\\rfsw-bj3\\Develop\\IJCAI2019\\IJCAI19_AliAAAC\\jobs\\model/keras_xception_19.h5\n",
      "dev accuracy 0.9272727272727272\n",
      "Keras Model,  use_prob==False not implemented!!\n",
      "loaded keras model from  \\\\rfsw-bj3\\Develop\\IJCAI2019\\IJCAI19_AliAAAC\\jobs\\model/keras_xception_19.h5\n",
      "adv accuracy 0.41818181818181815\n"
     ]
    }
   ],
   "source": [
    "model.weight_path = '\\\\\\\\rfsw-bj3\\\\Develop\\\\IJCAI2019\\\\IJCAI19_AliAAAC\\\\jobs\\\\model/keras_xception_19.h5'\n",
    "# model.reload()\n",
    "\n",
    "img_loader = ImageLoader(FLAGS.input_dir, batch_shape, targetlabel=TARGET_ATTACK, label_size=FLAGS.num_classes, format='png', label_file='dev.csv')\n",
    "ypred,_, acc = model.evaluate_generator(img_loader)\n",
    "print('dev accuracy',acc)\n",
    "# model.clear_session()\n",
    "\n",
    "img_loader = ImageLoader(FLAGS.output_dir, batch_shape, targetlabel=TARGET_ATTACK, label_size=FLAGS.num_classes, format='png', label_file='dev.csv')\n",
    "ypred,_, acc = model.evaluate_generator(img_loader)\n",
    "print('adv accuracy',acc)\n",
    "model.clear_session()"
   ]
  },
  {
   "cell_type": "code",
   "execution_count": 5,
   "metadata": {},
   "outputs": [
    {
     "name": "stdout",
     "output_type": "stream",
     "text": [
      "loaded keras model from  \\\\rfsw-bj3\\Develop\\IJCAI2019\\IJCAI19_AliAAAC\\IJCAI19\\weight/xception_19/keras_xception_19_old.h5\n",
      "dev accuracy 0.9727272727272728\n",
      "loaded keras model from  \\\\rfsw-bj3\\Develop\\IJCAI2019\\IJCAI19_AliAAAC\\IJCAI19\\weight/xception_19/keras_xception_19_old.h5\n",
      "adv accuracy 0.4909090909090909\n"
     ]
    }
   ],
   "source": [
    "model.weight_path = '\\\\\\\\rfsw-bj3\\\\Develop\\\\IJCAI2019\\\\IJCAI19_AliAAAC\\\\IJCAI19\\\\weight/xception_19/keras_xception_19_old.h5'\n",
    "# model.reload()\n",
    "\n",
    "img_loader = ImageLoader(FLAGS.input_dir, batch_shape, targetlabel=TARGET_ATTACK, label_size=FLAGS.num_classes, format='png', label_file='dev.csv')\n",
    "ypred,_, acc = model.evaluate_generator(img_loader)\n",
    "print('dev accuracy',acc)\n",
    "# model.clear_session()\n",
    "\n",
    "img_loader = ImageLoader(FLAGS.output_dir, batch_shape, targetlabel=TARGET_ATTACK, label_size=FLAGS.num_classes, format='png', label_file='dev.csv')\n",
    "ypred,_, acc = model.evaluate_generator(img_loader)\n",
    "print('adv accuracy',acc)\n",
    "model.clear_session()"
   ]
  },
  {
   "cell_type": "code",
   "execution_count": null,
   "metadata": {},
   "outputs": [],
   "source": []
  }
 ],
 "metadata": {
  "kernelspec": {
   "display_name": "Python 3",
   "language": "python",
   "name": "python3"
  },
  "language_info": {
   "codemirror_mode": {
    "name": "ipython",
    "version": 3
   },
   "file_extension": ".py",
   "mimetype": "text/x-python",
   "name": "python",
   "nbconvert_exporter": "python",
   "pygments_lexer": "ipython3",
   "version": "3.6.8"
  }
 },
 "nbformat": 4,
 "nbformat_minor": 2
}

{
 "cells": [
  {
   "cell_type": "code",
   "execution_count": 1,
   "metadata": {},
   "outputs": [
    {
     "name": "stderr",
     "output_type": "stream",
     "text": [
      "Using TensorFlow backend.\n"
     ]
    }
   ],
   "source": [
    "import sys\n",
    "sys.path.append(\"../\")\n",
    "\n",
    "from IJCAI19.test.DefenseTest import *\n",
    "InitGlobal()\n",
    "\n",
    "FLAGS.dev_dir = \"../../official_data/dev_data/\"\n",
    "FLAGS.input_dir = \"../../test_data/NonTargetAttackResult/\"\n",
    "FLAGS.output_file = \"../../test_data/DefenseResult.csv\"\n",
    "FLAGS.weight_path = \"../IJCAI19/weight/\"\n",
    "FLAGS.batch_size = 8\n",
    "\n",
    "ModelFactory.WEIGHT_DIR = FLAGS.weight_path\n",
    "TARGET_ATTACK = False\n",
    "\n",
    "from IJCAI19.model.EmbeddedDefenseModel import EmbeddedDefenseModel\n",
    "from IJCAI19.model.RandomDefense import RandomDefense\n",
    "from IJCAI19.test.DefenseTest import *\n",
    "\n",
    "batch_shape = [FLAGS.batch_size, FLAGS.image_height, FLAGS.image_width, 3]\n"
   ]
  },
  {
   "cell_type": "code",
   "execution_count": 2,
   "metadata": {},
   "outputs": [
    {
     "name": "stdout",
     "output_type": "stream",
     "text": [
      "without random_transform\n",
      "INFO:tensorflow:Restoring parameters from ../IJCAI19/weight/inception_v1/inception_v1.ckpt\n",
      "without random_transform\n",
      "INFO:tensorflow:Restoring parameters from ../IJCAI19/weight/resnet_v1_50/model.ckpt-49800\n",
      "correct 11/110,  Score 1.6473720509103522\n"
     ]
    },
    {
     "data": {
      "text/plain": [
       "1.6473720509103522"
      ]
     },
     "execution_count": 2,
     "metadata": {},
     "output_type": "execute_result"
    }
   ],
   "source": [
    "batch_shape = [FLAGS.batch_size, FLAGS.image_height, FLAGS.image_width, 3]\n",
    "name = \"inception_v1\"\n",
    "T1 = RandomDefense(FLAGS.num_classes, name=name)\n",
    "# T1.random(msb_max=4, msb_rate=1, \n",
    "#                     rotation_range=10,\n",
    "#                     width_shift_range=0.05,\n",
    "#                     height_shift_range=0.05,\n",
    "#                     shear_range=0.05)\n",
    "name = \"resnetv1_50\"\n",
    "T2 = RandomDefense(FLAGS.num_classes, name=name)\n",
    "# T2.random(msb_max=4, msb_rate=1, \n",
    "#                     rotation_range=10,\n",
    "#                     width_shift_range=0.05,\n",
    "#                     height_shift_range=0.05,\n",
    "#                     shear_range=0.05)\n",
    "name = \"vgg_16\"\n",
    "T3 = RandomDefense(FLAGS.num_classes, name=name)\n",
    "# T.random(msb_max=16, msb_rate=1)\n",
    "# T.random(msb_max=4, msb_rate=1, \n",
    "#                     rotation_range=10,\n",
    "#                     width_shift_range=0.05,\n",
    "#                     height_shift_range=0.05,\n",
    "#                     shear_range=0.1,\n",
    "#                     zoom_range=0.05,\n",
    "#                     channel_shift_range=2,\n",
    "#                     horizontal_flip=True)\n",
    "\n",
    "D = EmbeddedDefenseModel(\"\")\n",
    "D.add_model(T1, weight=1)\n",
    "D.add_model(T2, weight=1)\n",
    "# D.add_model(T3, weight=1)\n",
    "\n",
    "# ypred, yprob =Defense(D, FLAGS.dev_dir, repeat=1)\n",
    "DefenseWrite(D, repeat=1)\n",
    "Validate()"
   ]
  },
  {
   "cell_type": "code",
   "execution_count": 3,
   "metadata": {},
   "outputs": [
    {
     "name": "stdout",
     "output_type": "stream",
     "text": [
      "loaded keras model from  ../IJCAI19/weight/xception_19/keras_xception_19.h5\n",
      "correct 89/110,  Score 12.951408921806218\n"
     ]
    },
    {
     "data": {
      "text/plain": [
       "12.951408921806218"
      ]
     },
     "execution_count": 3,
     "metadata": {},
     "output_type": "execute_result"
    }
   ],
   "source": [
    "name = \"keras_xception_19\"\n",
    "T11 = RandomDefense(FLAGS.num_classes, name=name)\n",
    "T11.random(\n",
    "        msb_max=8, msb_rate=1, \n",
    "#         rotation_range=5,\n",
    "#         width_shift_range=0.05,\n",
    "#         height_shift_range=0.05\n",
    ")\n",
    "\n",
    "D = EmbeddedDefenseModel(\"\")\n",
    "D.add_model(T11, weight=1)\n",
    "\n",
    "DefenseWrite(D, repeat=1)\n",
    "Validate()"
   ]
  },
  {
   "cell_type": "code",
   "execution_count": 6,
   "metadata": {},
   "outputs": [
    {
     "name": "stdout",
     "output_type": "stream",
     "text": [
      "loaded keras model from  ../IJCAI19/weight/xception_19/keras_xception_19.h5\n",
      "without random_transform\n",
      "INFO:tensorflow:Restoring parameters from ../IJCAI19/weight/resnet_v1_50/model.ckpt-49800\n",
      "without random_transform\n",
      "Keras Model,  use_prob not implemented!!\n",
      "correct 63/110,  Score 9.002300389136446\n"
     ]
    },
    {
     "data": {
      "text/plain": [
       "9.002300389136446"
      ]
     },
     "execution_count": 6,
     "metadata": {},
     "output_type": "execute_result"
    }
   ],
   "source": [
    "batch_shape = [FLAGS.batch_size, FLAGS.image_height, FLAGS.image_width, 3]\n",
    "name = \"inception_v1\"\n",
    "T1 = RandomDefense(FLAGS.num_classes, name=name)\n",
    "# T1.random(\n",
    "#         msb_max=10, msb_rate=1, \n",
    "#         rotation_range=20,\n",
    "#         width_shift_range=0.05,\n",
    "#         height_shift_range=0.05,\n",
    "# #         shear_range=0.05\n",
    "# )\n",
    "name = \"resnetv1_50\"\n",
    "T2 = RandomDefense(FLAGS.num_classes, name=name)\n",
    "# T2.random(\n",
    "#         msb_max=10, msb_rate=1, \n",
    "#         rotation_range=20,\n",
    "#         width_shift_range=0.05,\n",
    "#         height_shift_range=0.05,\n",
    "# #         shear_range=0.05\n",
    "# )\n",
    "\n",
    "name = \"keras_xception_19\"\n",
    "T11 = RandomDefense(FLAGS.num_classes, name=name)\n",
    "# T11.random(\n",
    "#         msb_max=10, msb_rate=1, \n",
    "#         rotation_range=20,\n",
    "#         width_shift_range=0.05,\n",
    "#         height_shift_range=0.05,\n",
    "# #         shear_range=0.05\n",
    "# )\n",
    "\n",
    "D = EmbeddedDefenseModel(\"\")\n",
    "# D.add_model(T1, weight=1)\n",
    "D.add_model(T2, weight=1)\n",
    "# D.add_model(T3, weight=1)\n",
    "D.add_model(T11, weight=1)\n",
    "\n",
    "\n",
    "# ypred, yprob =Defense(D, FLAGS.dev_dir, repeat=1)\n",
    "DefenseWrite(D, repeat=1)\n",
    "Validate()"
   ]
  },
  {
   "cell_type": "code",
   "execution_count": null,
   "metadata": {},
   "outputs": [],
   "source": []
  }
 ],
 "metadata": {
  "kernelspec": {
   "display_name": "Python 3",
   "language": "python",
   "name": "python3"
  },
  "language_info": {
   "codemirror_mode": {
    "name": "ipython",
    "version": 3
   },
   "file_extension": ".py",
   "mimetype": "text/x-python",
   "name": "python",
   "nbconvert_exporter": "python",
   "pygments_lexer": "ipython3",
   "version": "3.6.8"
  }
 },
 "nbformat": 4,
 "nbformat_minor": 2
}

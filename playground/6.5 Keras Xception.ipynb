{
 "cells": [
  {
   "cell_type": "code",
   "execution_count": 1,
   "metadata": {},
   "outputs": [
    {
     "name": "stderr",
     "output_type": "stream",
     "text": [
      "Using TensorFlow backend.\n"
     ]
    }
   ],
   "source": [
    "import sys\n",
    "sys.path.append(\"../\")\n",
    "\n",
    "import tensorflow as tf\n",
    "from IJCAI19.test.AttackTest import *\n",
    "\n",
    "InitGlobal()\n",
    "TARGET_ATTACK = False\n",
    "\n",
    "import keras.backend as K\n",
    "from keras.models import load_model\n",
    "from IJCAI19.model.KerasModel import *"
   ]
  },
  {
   "cell_type": "code",
   "execution_count": 2,
   "metadata": {},
   "outputs": [
    {
     "name": "stdout",
     "output_type": "stream",
     "text": [
      "loaded keras model from  ../IJCAI19/weight/xception_19/keras_xception_19.h5\n"
     ]
    }
   ],
   "source": [
    "model = ModelFactory.create(\"keras_xception_19\", 110)"
   ]
  },
  {
   "cell_type": "code",
   "execution_count": 3,
   "metadata": {},
   "outputs": [
    {
     "name": "stdout",
     "output_type": "stream",
     "text": [
      "15 16\n",
      "29 32\n",
      "42 48\n",
      "54 64\n",
      "68 80\n",
      "84 96\n",
      "97 110\n",
      "size 110, Accuracy 110\n"
     ]
    }
   ],
   "source": [
    "batch_shape = [16, FLAGS.image_height, FLAGS.image_width, 3]\n",
    "img_loader = ImageLoader(FLAGS.output_dir, batch_shape, targetlabel=TARGET_ATTACK, label_size=FLAGS.num_classes, format='png', label_file='dev.csv')\n",
    "\n",
    "ypred,_, acc = model.evaluate_generator(img_loader)\n",
    "\n",
    "# del model\n",
    "# K.clear_session()\n",
    "# tf.reset_default_graph()"
   ]
  },
  {
   "cell_type": "code",
   "execution_count": 11,
   "metadata": {},
   "outputs": [],
   "source": [
    "del model\n",
    "K.clear_session()\n",
    "tf.reset_default_graph()"
   ]
  },
  {
   "cell_type": "code",
   "execution_count": 4,
   "metadata": {},
   "outputs": [
    {
     "name": "stdout",
     "output_type": "stream",
     "text": [
      "loaded pretrained model from  ../jobs/model/keras_xception_19.h5\n",
      "110/110 [==============================] - 7s 67ms/step\n",
      "\n",
      "test loss 0.32186724164269187\n",
      "accuracy 0.936363633112474\n"
     ]
    }
   ],
   "source": [
    "from keras.models import load_model\n",
    "saved_model = '../jobs/model/keras_xception_19.h5'\n",
    "if os.path.exists(saved_model):\n",
    "    model = load_model(saved_model)\n",
    "    print(\"loaded pretrained model from \", saved_model)\n",
    "else:\n",
    "    print(\"path not exit\")\n",
    "# model.summary()\n",
    "\n",
    "batch_shape = [110, FLAGS.image_height, FLAGS.image_width, 3]\n",
    "img_loader = ImageLoader(FLAGS.output_dir, batch_shape, targetlabel=TARGET_ATTACK, label_size=FLAGS.num_classes, format='png', label_file='dev.csv')\n",
    "_, X,Y = next(img_loader)\n",
    "X = (X*2/255)-1\n",
    "loss,accuracy = model.evaluate(X,Y)\n",
    "print('\\ntest loss',loss)\n",
    "print('accuracy',accuracy)\n",
    "del model\n",
    "K.clear_session()\n",
    "tf.reset_default_graph()"
   ]
  },
  {
   "cell_type": "code",
   "execution_count": 10,
   "metadata": {},
   "outputs": [
    {
     "data": {
      "text/plain": [
       "array([[0, 0, 0, ..., 0, 0, 0],\n",
       "       [0, 0, 0, ..., 0, 0, 0],\n",
       "       [0, 0, 0, ..., 0, 0, 0],\n",
       "       ...,\n",
       "       [0, 0, 0, ..., 0, 0, 0],\n",
       "       [0, 0, 0, ..., 0, 0, 0],\n",
       "       [0, 0, 0, ..., 0, 0, 0]])"
      ]
     },
     "execution_count": 10,
     "metadata": {},
     "output_type": "execute_result"
    }
   ],
   "source": [
    "ypred"
   ]
  },
  {
   "cell_type": "code",
   "execution_count": 4,
   "metadata": {},
   "outputs": [],
   "source": [
    "batch_shape = [16, FLAGS.image_height, FLAGS.image_width, 3]\n",
    "img_loader = ImageLoader(FLAGS.output_dir, batch_shape, targetlabel=TARGET_ATTACK, label_size=FLAGS.num_classes, format='png', label_file='dev.csv')"
   ]
  },
  {
   "cell_type": "code",
   "execution_count": 7,
   "metadata": {},
   "outputs": [],
   "source": [
    "_,X,Y = next(img_loader)\n",
    "ypred = model.predict_batch(X)"
   ]
  },
  {
   "cell_type": "code",
   "execution_count": 9,
   "metadata": {},
   "outputs": [
    {
     "data": {
      "text/plain": [
       "(14, 16)"
      ]
     },
     "execution_count": 9,
     "metadata": {},
     "output_type": "execute_result"
    }
   ],
   "source": [
    "X[ypred == Y.argmax(1)].shape[0], X.shape[0]"
   ]
  },
  {
   "cell_type": "code",
   "execution_count": null,
   "metadata": {},
   "outputs": [],
   "source": []
  }
 ],
 "metadata": {
  "kernelspec": {
   "display_name": "Python 3",
   "language": "python",
   "name": "python3"
  },
  "language_info": {
   "codemirror_mode": {
    "name": "ipython",
    "version": 3
   },
   "file_extension": ".py",
   "mimetype": "text/x-python",
   "name": "python",
   "nbconvert_exporter": "python",
   "pygments_lexer": "ipython3",
   "version": "3.6.8"
  }
 },
 "nbformat": 4,
 "nbformat_minor": 2
}

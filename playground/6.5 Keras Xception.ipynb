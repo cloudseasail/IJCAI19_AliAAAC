{
 "cells": [
  {
   "cell_type": "code",
   "execution_count": 1,
   "metadata": {},
   "outputs": [
    {
     "name": "stderr",
     "output_type": "stream",
     "text": [
      "Using TensorFlow backend.\n"
     ]
    }
   ],
   "source": [
    "import sys\n",
    "sys.path.append(\"../\")\n",
    "\n",
    "import tensorflow as tf\n",
    "from IJCAI19.test.AttackTest import *\n",
    "\n",
    "InitGlobal()\n",
    "TARGET_ATTACK = False\n",
    "\n",
    "import keras.backend as K"
   ]
  },
  {
   "cell_type": "code",
   "execution_count": 4,
   "metadata": {},
   "outputs": [
    {
     "name": "stdout",
     "output_type": "stream",
     "text": [
      "loaded pretrained model from  ../IJCAI19/weight/xception_19/keras_xception_19.h5\n",
      "110/110 [==============================] - 7s 68ms/step\n",
      "\n",
      "test loss 0.3530311844565652\n",
      "accuracy 0.918181819265539\n"
     ]
    }
   ],
   "source": [
    "from keras.models import load_model\n",
    "saved_model = '../IJCAI19/weight/xception_19/keras_xception_19.h5'\n",
    "if os.path.exists(saved_model):\n",
    "    model = load_model(saved_model)\n",
    "    print(\"loaded pretrained model from \", saved_model)\n",
    "else:\n",
    "    print(\"path not exit\")\n",
    "# model.summary()\n",
    "\n",
    "batch_shape = [110, FLAGS.image_height, FLAGS.image_width, 3]\n",
    "img_loader = ImageLoader(FLAGS.output_dir, batch_shape, targetlabel=TARGET_ATTACK, label_size=FLAGS.num_classes, format='png', label_file='dev.csv')\n",
    "_, X,Y = next(img_loader)\n",
    "X = (X*2/255)-1\n",
    "loss,accuracy = model.evaluate(X,Y)\n",
    "print('\\ntest loss',loss)\n",
    "print('accuracy',accuracy)\n",
    "K.clear_session()\n",
    "tf.reset_default_graph()"
   ]
  },
  {
   "cell_type": "code",
   "execution_count": 3,
   "metadata": {},
   "outputs": [],
   "source": [
    "del model\n",
    "K.clear_session()\n",
    "\n",
    "tf.reset_default_graph()"
   ]
  },
  {
   "cell_type": "code",
   "execution_count": 2,
   "metadata": {},
   "outputs": [
    {
     "name": "stdout",
     "output_type": "stream",
     "text": [
      "loaded pretrained model from  ../jobs/model/keras_xception_19.h5\n",
      "110/110 [==============================] - 14s 127ms/step\n",
      "\n",
      "test loss 0.30694193054329266\n",
      "accuracy 0.9272727240215648\n"
     ]
    }
   ],
   "source": [
    "from keras.models import load_model\n",
    "saved_model = '../jobs/model/keras_xception_19.h5'\n",
    "if os.path.exists(saved_model):\n",
    "    model = load_model(saved_model)\n",
    "    print(\"loaded pretrained model from \", saved_model)\n",
    "else:\n",
    "    print(\"path not exit\")\n",
    "# model.summary()\n",
    "\n",
    "batch_shape = [110, FLAGS.image_height, FLAGS.image_width, 3]\n",
    "img_loader = ImageLoader(FLAGS.output_dir, batch_shape, targetlabel=TARGET_ATTACK, label_size=FLAGS.num_classes, format='png', label_file='dev.csv')\n",
    "_, X,Y = next(img_loader)\n",
    "X = (X*2/255)-1\n",
    "loss,accuracy = model.evaluate(X,Y)\n",
    "print('\\ntest loss',loss)\n",
    "print('accuracy',accuracy)\n",
    "K.clear_session()\n",
    "tf.reset_default_graph()"
   ]
  },
  {
   "cell_type": "code",
   "execution_count": null,
   "metadata": {},
   "outputs": [],
   "source": []
  }
 ],
 "metadata": {
  "kernelspec": {
   "display_name": "Python 3",
   "language": "python",
   "name": "python3"
  },
  "language_info": {
   "codemirror_mode": {
    "name": "ipython",
    "version": 3
   },
   "file_extension": ".py",
   "mimetype": "text/x-python",
   "name": "python",
   "nbconvert_exporter": "python",
   "pygments_lexer": "ipython3",
   "version": "3.6.8"
  }
 },
 "nbformat": 4,
 "nbformat_minor": 2
}

{
 "cells": [
  {
   "cell_type": "code",
   "execution_count": 1,
   "metadata": {},
   "outputs": [
    {
     "name": "stderr",
     "output_type": "stream",
     "text": [
      "Using TensorFlow backend.\n"
     ]
    }
   ],
   "source": [
    "import sys\n",
    "sys.path.append(\"../\")\n",
    "\n",
    "import tensorflow as tf\n",
    "from IJCAI19.test.AttackTest import *\n",
    "\n",
    "InitGlobal()\n",
    "TARGET_ATTACK = False\n",
    "\n",
    "from IJCAI19.model.KerasModel import *\n",
    "from IJCAI19.module.utils import *\n",
    "\n",
    "FLAGS.batch_size = 1\n",
    "batch_shape = [FLAGS.batch_size, FLAGS.image_height, FLAGS.image_width, 3]\n"
   ]
  },
  {
   "cell_type": "code",
   "execution_count": 2,
   "metadata": {},
   "outputs": [],
   "source": [
    "name = \"keras_nasnet_large\"\n",
    "model = ModelFactory.create(name, FLAGS.num_classes)\n",
    "file_name = name + '.h5'"
   ]
  },
  {
   "cell_type": "code",
   "execution_count": 3,
   "metadata": {},
   "outputs": [
    {
     "name": "stdout",
     "output_type": "stream",
     "text": [
      "loaded keras model from  ../IJCAI19/weight/nasnet/keras_nasnet_large.h5\n",
      "prepare  runs: 62.09 s\n",
      "predict  runs: 6.67 s\n"
     ]
    },
    {
     "data": {
      "text/plain": [
       "6.671821117401123"
      ]
     },
     "execution_count": 3,
     "metadata": {},
     "output_type": "execute_result"
    }
   ],
   "source": [
    "p=Profile('prepare ')\n",
    "# model.weight_path = '\\\\\\\\rfsw-bj3\\\\Develop\\\\IJCAI2019\\\\IJCAI19_AliAAAC\\\\jobs\\\\model/' + file_name\n",
    "# model.reload()\n",
    "model.predict_create_graph()\n",
    "\n",
    "img_loader = ImageLoader(FLAGS.input_dir, batch_shape, targetlabel=TARGET_ATTACK, label_size=FLAGS.num_classes, format='png', label_file='dev.csv')\n",
    "_,X,Y = next(img_loader)\n",
    "p.stop()\n",
    "\n",
    "p=Profile('predict ')\n",
    "ypred = model.predict_batch(X)\n",
    "p.stop()"
   ]
  },
  {
   "cell_type": "code",
   "execution_count": 4,
   "metadata": {},
   "outputs": [],
   "source": [
    "img_loader = ImageLoader(FLAGS.input_dir, batch_shape, targetlabel=TARGET_ATTACK, label_size=FLAGS.num_classes, format='png', label_file='dev.csv')\n",
    "_,X,Y = next(img_loader)"
   ]
  },
  {
   "cell_type": "code",
   "execution_count": 5,
   "metadata": {},
   "outputs": [
    {
     "data": {
      "text/plain": [
       "194"
      ]
     },
     "execution_count": 5,
     "metadata": {},
     "output_type": "execute_result"
    }
   ],
   "source": [
    "961\n",
    "194"
   ]
  },
  {
   "cell_type": "code",
   "execution_count": 1,
   "metadata": {},
   "outputs": [
    {
     "name": "stdout",
     "output_type": "stream",
     "text": [
      "249997850000.0\n",
      "\n",
      "\n",
      "\n",
      "Shape: (10000, 10000) Device: /gpu:0\n",
      "Time taken: 0:00:04.453004\n",
      "\n",
      "\n",
      "\n"
     ]
    }
   ],
   "source": [
    "import sys\n",
    "import numpy as np\n",
    "import tensorflow as tf\n",
    "from datetime import datetime\n",
    "\n",
    "device_name=\"/gpu:0\"\n",
    "\n",
    "shape=(int(10000),int(10000))\n",
    "\n",
    "with tf.device(device_name):\n",
    "    random_matrix = tf.random_uniform(shape=shape, minval=0, maxval=1)\n",
    "    dot_operation = tf.matmul(random_matrix, tf.transpose(random_matrix))\n",
    "    sum_operation = tf.reduce_sum(dot_operation)\n",
    "\n",
    "startTime = datetime.now()\n",
    "with tf.Session(config=tf.ConfigProto(log_device_placement=True)) as session:\n",
    "        result = session.run(sum_operation)\n",
    "        print(result)\n",
    "\n",
    "print(\"\\n\" * 2)\n",
    "print(\"Shape:\", shape, \"Device:\", device_name)\n",
    "print(\"Time taken:\", datetime.now() - startTime)\n",
    "\n",
    "print(\"\\n\" * 2)"
   ]
  },
  {
   "cell_type": "code",
   "execution_count": 3,
   "metadata": {},
   "outputs": [
    {
     "name": "stdout",
     "output_type": "stream",
     "text": [
      "load weight  runs: 62.80 s\n"
     ]
    },
    {
     "data": {
      "text/plain": [
       "62.79578614234924"
      ]
     },
     "execution_count": 3,
     "metadata": {},
     "output_type": "execute_result"
    }
   ],
   "source": [
    "name = \"keras_nasnet_large\"\n",
    "model = ModelFactory.create(name, FLAGS.num_classes)\n",
    "p=Profile('load weight ')\n",
    "path = model.weight_path\n",
    "if os.path.exists(path):\n",
    "    km = load_model(path)\n",
    "p.stop()"
   ]
  },
  {
   "cell_type": "code",
   "execution_count": 4,
   "metadata": {},
   "outputs": [],
   "source": [
    "from cleverhans.utils_keras import KerasModelWrapper"
   ]
  },
  {
   "cell_type": "code",
   "execution_count": 5,
   "metadata": {},
   "outputs": [
    {
     "name": "stdout",
     "output_type": "stream",
     "text": [
      "KerasModelWrapper  runs: 0.00 s\n"
     ]
    },
    {
     "data": {
      "text/plain": [
       "0.0"
      ]
     },
     "execution_count": 5,
     "metadata": {},
     "output_type": "execute_result"
    }
   ],
   "source": [
    "p=Profile('KerasModelWrapper ')\n",
    "cleverhans_model = KerasModelWrapper(km)\n",
    "p.stop()"
   ]
  },
  {
   "cell_type": "code",
   "execution_count": null,
   "metadata": {},
   "outputs": [
    {
     "name": "stdout",
     "output_type": "stream",
     "text": [
      "Session  runs: 1.70 s\n"
     ]
    }
   ],
   "source": [
    "p=Profile('Session ')\n",
    "config=tf.ConfigProto(allow_soft_placement=True, log_device_placement=True,)\n",
    "config.gpu_options.allow_growth = True\n",
    "sess =  tf.Session(config=config)\n",
    "p.stop()\n",
    "with sess.as_default():\n",
    "    p=Profile('load weight ')\n",
    "    path = model.weight_path\n",
    "    if os.path.exists(path):\n",
    "        km = load_model(path)\n",
    "    p.stop()"
   ]
  },
  {
   "cell_type": "code",
   "execution_count": null,
   "metadata": {},
   "outputs": [],
   "source": [
    "p=Profile('ImageLoader ')\n",
    "img_loader = ImageLoader(FLAGS.input_dir, batch_shape, targetlabel=TARGET_ATTACK, label_size=FLAGS.num_classes, format='png', label_file='dev.csv')\n",
    "_,X,Y = next(img_loader)\n",
    "p.stop()\n",
    "\n",
    "with sess.as_default():\n",
    "    p=Profile('predict ')\n",
    "    km.predict_on_batch(X)\n",
    "    p.stop()"
   ]
  },
  {
   "cell_type": "code",
   "execution_count": null,
   "metadata": {},
   "outputs": [],
   "source": []
  }
 ],
 "metadata": {
  "kernelspec": {
   "display_name": "Python 3",
   "language": "python",
   "name": "python3"
  },
  "language_info": {
   "codemirror_mode": {
    "name": "ipython",
    "version": 3
   },
   "file_extension": ".py",
   "mimetype": "text/x-python",
   "name": "python",
   "nbconvert_exporter": "python",
   "pygments_lexer": "ipython3",
   "version": "3.6.8"
  }
 },
 "nbformat": 4,
 "nbformat_minor": 2
}

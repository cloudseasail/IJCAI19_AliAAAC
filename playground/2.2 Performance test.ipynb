{
 "cells": [
  {
   "cell_type": "code",
   "execution_count": 1,
   "metadata": {},
   "outputs": [
    {
     "name": "stderr",
     "output_type": "stream",
     "text": [
      "Using TensorFlow backend.\n"
     ]
    }
   ],
   "source": [
    "import sys\n",
    "sys.path.append(\"../\")\n",
    "\n",
    "import tensorflow as tf\n",
    "from IJCAI19.test.AttackTest import *\n",
    "\n",
    "InitGlobal()\n",
    "TARGET_ATTACK = False\n",
    "\n",
    "from IJCAI19.model.KerasModel import *\n",
    "from IJCAI19.module.utils import *\n",
    "\n",
    "FLAGS.batch_size = 1\n",
    "batch_shape = [FLAGS.batch_size, FLAGS.image_height, FLAGS.image_width, 3]\n"
   ]
  },
  {
   "cell_type": "code",
   "execution_count": 2,
   "metadata": {},
   "outputs": [],
   "source": [
    "name = \"keras_nasnet_large\"\n",
    "model = ModelFactory.create(name, FLAGS.num_classes)\n",
    "file_name = name + '.h5'"
   ]
  },
  {
   "cell_type": "code",
   "execution_count": 3,
   "metadata": {},
   "outputs": [
    {
     "name": "stdout",
     "output_type": "stream",
     "text": [
      "loaded keras model from  \\\\rfsw-bj3\\Develop\\IJCAI2019\\IJCAI19_AliAAAC\\jobs\\model/keras_nasnet_large.h5\n",
      "prepare  runs: 888.98 s\n",
      "predict  runs: 174.69 s\n"
     ]
    },
    {
     "data": {
      "text/plain": [
       "174.68629097938538"
      ]
     },
     "execution_count": 3,
     "metadata": {},
     "output_type": "execute_result"
    }
   ],
   "source": [
    "p=Profile('prepare ')\n",
    "model.weight_path = '\\\\\\\\rfsw-bj3\\\\Develop\\\\IJCAI2019\\\\IJCAI19_AliAAAC\\\\jobs\\\\model/' + file_name\n",
    "# model.reload()\n",
    "model.predict_create_graph()\n",
    "\n",
    "img_loader = ImageLoader(FLAGS.input_dir, batch_shape, targetlabel=TARGET_ATTACK, label_size=FLAGS.num_classes, format='png', label_file='dev.csv')\n",
    "_,X,Y = next(img_loader)\n",
    "p.stop()\n",
    "\n",
    "p=Profile('predict ')\n",
    "ypred = model.predict_batch(X)\n",
    "p.stop()"
   ]
  },
  {
   "cell_type": "code",
   "execution_count": null,
   "metadata": {},
   "outputs": [],
   "source": []
  }
 ],
 "metadata": {
  "kernelspec": {
   "display_name": "Python 3",
   "language": "python",
   "name": "python3"
  },
  "language_info": {
   "codemirror_mode": {
    "name": "ipython",
    "version": 3
   },
   "file_extension": ".py",
   "mimetype": "text/x-python",
   "name": "python",
   "nbconvert_exporter": "python",
   "pygments_lexer": "ipython3",
   "version": "3.6.8"
  }
 },
 "nbformat": 4,
 "nbformat_minor": 2
}

{
 "cells": [
  {
   "cell_type": "code",
   "execution_count": 1,
   "metadata": {},
   "outputs": [
    {
     "name": "stderr",
     "output_type": "stream",
     "text": [
      "Using TensorFlow backend.\n"
     ]
    }
   ],
   "source": [
    "import sys\n",
    "sys.path.append(\"../\")\n",
    "\n",
    "import tensorflow as tf\n",
    "from IJCAI19.test.AttackTest import *\n",
    "\n",
    "InitGlobal()\n",
    "TARGET_ATTACK = False\n",
    "\n",
    "from IJCAI19.model.GhostNet.ghost_resnet_v1 import GHOST\n"
   ]
  },
  {
   "cell_type": "code",
   "execution_count": 2,
   "metadata": {},
   "outputs": [],
   "source": [
    "# from IJCAI19.model.GhostNet.ghost_resnet_v1 import GHOST\n",
    "# TARGET_ATTACK = False\n",
    "\n",
    "# GHOST.shortcut_weight_range = 0.1\n",
    "# print(GHOST.shortcut_weight_range)\n",
    "\n",
    "# batch_shape = [FLAGS.batch_size, FLAGS.image_height, FLAGS.image_width, 3]\n",
    "\n",
    "# name = \"ghost_resnetv1_50\"\n",
    "# T = AttackModel(batch_shape, FLAGS.num_classes, name=name)\n",
    "# Yp, topK, acc = Predict(T, FLAGS.input_dir, targetlabel=TARGET_ATTACK)"
   ]
  },
  {
   "cell_type": "code",
   "execution_count": 3,
   "metadata": {},
   "outputs": [
    {
     "name": "stdout",
     "output_type": "stream",
     "text": [
      "{'ep_ratio': 0.1, 'nb_iter': 10, 'target': False, 'eps': 25.5, 'eps_iter': 2.55, 'y': <tf.Tensor 'output:0' shape=(?, 110) dtype=float32>, 'clip_min': 0, 'clip_max': 255}\n"
     ]
    },
    {
     "name": "stderr",
     "output_type": "stream",
     "text": [
      "..\\IJCAI19\\module\\gs_mim.py:204: UserWarning: kwargs is unused and will be removed on or after 2019-04-26.\n",
      "  warnings.warn(\"kwargs is unused and will be removed on or after \"\n"
     ]
    },
    {
     "name": "stdout",
     "output_type": "stream",
     "text": [
      "INFO:tensorflow:Restoring parameters from ../IJCAI19/weight/resnet_v1_50/model.ckpt-49800\n",
      "Attack  runs: 109.18 s\n",
      "INFO:tensorflow:Restoring parameters from ../IJCAI19/weight/vgg_16/vgg_16.ckpt\n",
      "Predict  runs: 19.31 s\n",
      "batchs 28 Accuracy 0.3181818181818182\n",
      "(110, 299, 299, 3) (110, 299, 299, 3) (110, 110) (110, 110)\n",
      "Mean L2 17.2452,  Score 52.5902, Attack Success Rate 0.68\n"
     ]
    }
   ],
   "source": [
    "batch_shape = [FLAGS.batch_size, FLAGS.image_height, FLAGS.image_width, 3]\n",
    "# Attack model\n",
    "name = 'resnetv1_50'\n",
    "attack_params = {\"ep_ratio\": 0.1, \"nb_iter\": 10, \"target\":TARGET_ATTACK}\n",
    "T1 = AttackModel(batch_shape, FLAGS.num_classes, name=name)\n",
    "A = EmbeddedAttackModel(batch_shape, FLAGS.num_classes)\n",
    "A.add_model(T1)\n",
    "Attack(A, GradSmoothMomentumIterativeMethod, attack_params, TARGET_ATTACK)\n",
    "\n",
    "# Validate model\n",
    "name = 'vgg_16'\n",
    "T2 = AttackModel(batch_shape, FLAGS.num_classes, name=name)\n",
    "Yp, topK, acc = Predict(T2, FLAGS.output_dir, targetlabel=TARGET_ATTACK)\n",
    "X, Y, Xadv, Yadv = Score(Yp, TARGET_ATTACK)"
   ]
  },
  {
   "cell_type": "code",
   "execution_count": 4,
   "metadata": {},
   "outputs": [
    {
     "name": "stdout",
     "output_type": "stream",
     "text": [
      "0.1\n",
      "{'ep_ratio': 0.1, 'nb_iter': 10, 'target': False, 'eps': 25.5, 'eps_iter': 2.55, 'y': <tf.Tensor 'output:0' shape=(?, 110) dtype=float32>, 'clip_min': 0, 'clip_max': 255}\n",
      "INFO:tensorflow:Restoring parameters from ../IJCAI19/weight/resnet_v1_50/model.ckpt-49800\n",
      "Attack  runs: 101.26 s\n",
      "INFO:tensorflow:Restoring parameters from ../IJCAI19/weight/vgg_16/vgg_16.ckpt\n",
      "Predict  runs: 16.89 s\n",
      "batchs 28 Accuracy 0.3090909090909091\n",
      "(110, 299, 299, 3) (110, 299, 299, 3) (110, 110) (110, 110)\n",
      "Mean L2 17.2490,  Score 51.5646, Attack Success Rate 0.69\n"
     ]
    }
   ],
   "source": [
    "from IJCAI19.model.GhostNet.ghost_resnet_v1 import GHOST\n",
    "\n",
    "GHOST.shortcut_weight_range = 0.1\n",
    "print(GHOST.shortcut_weight_range)\n",
    "\n",
    "name = 'ghost_resnetv1_50'\n",
    "attack_params = {\"ep_ratio\": 0.1, \"nb_iter\": 10, \"target\":TARGET_ATTACK}\n",
    "\n",
    "# T1 = AttackModel(batch_shape, FLAGS.num_classes, name=name)\n",
    "T2 = AttackModel(batch_shape, FLAGS.num_classes, name=name)\n",
    "A = EmbeddedAttackModel(batch_shape, FLAGS.num_classes)\n",
    "A.add_model(T1)\n",
    "# A.add_model(T2)\n",
    "Attack(A, GradSmoothMomentumIterativeMethod, attack_params, TARGET_ATTACK)\n",
    "\n",
    "name = 'vgg_16'\n",
    "T2 = AttackModel(batch_shape, FLAGS.num_classes, name=name)\n",
    "Yp, topK, acc = Predict(T2, FLAGS.output_dir, targetlabel=TARGET_ATTACK)\n",
    "X, Y, Xadv, Yadv = Score(Yp, TARGET_ATTACK)"
   ]
  },
  {
   "cell_type": "code",
   "execution_count": 5,
   "metadata": {},
   "outputs": [
    {
     "name": "stdout",
     "output_type": "stream",
     "text": [
      "0.1\n",
      "{'ep_ratio': 0.1, 'nb_iter': 10, 'target': False, 'eps': 25.5, 'eps_iter': 2.55, 'y': <tf.Tensor 'output:0' shape=(?, 110) dtype=float32>, 'clip_min': 0, 'clip_max': 255}\n",
      "INFO:tensorflow:Restoring parameters from ../IJCAI19/weight/resnet_v1_50/model.ckpt-49800\n",
      "INFO:tensorflow:Restoring parameters from ../IJCAI19/weight/resnet_v1_50/model.ckpt-49800\n",
      "Attack  runs: 209.98 s\n",
      "INFO:tensorflow:Restoring parameters from ../IJCAI19/weight/vgg_16/vgg_16.ckpt\n",
      "Predict  runs: 16.95 s\n",
      "batchs 28 Accuracy 0.34545454545454546\n",
      "(110, 299, 299, 3) (110, 299, 299, 3) (110, 110) (110, 110)\n",
      "Mean L2 17.1949,  Score 55.6480, Attack Success Rate 0.65\n"
     ]
    }
   ],
   "source": [
    "from IJCAI19.model.GhostNet.ghost_resnet_v1 import GHOST\n",
    "\n",
    "GHOST.shortcut_weight_range = 0.1\n",
    "print(GHOST.shortcut_weight_range)\n",
    "\n",
    "name = 'ghost_resnetv1_50'\n",
    "attack_params = {\"ep_ratio\": 0.1, \"nb_iter\": 10, \"target\":TARGET_ATTACK}\n",
    "\n",
    "T1 = AttackModel(batch_shape, FLAGS.num_classes, name=name)\n",
    "T2 = AttackModel(batch_shape, FLAGS.num_classes, name=name)\n",
    "A = EmbeddedAttackModel(batch_shape, FLAGS.num_classes)\n",
    "A.add_model(T1)\n",
    "A.add_model(T2)\n",
    "Attack(A, GradSmoothMomentumIterativeMethod, attack_params, TARGET_ATTACK)\n",
    "\n",
    "name = 'vgg_16'\n",
    "T2 = AttackModel(batch_shape, FLAGS.num_classes, name=name)\n",
    "Yp, topK, acc = Predict(T2, FLAGS.output_dir, targetlabel=TARGET_ATTACK)\n",
    "X, Y, Xadv, Yadv = Score(Yp, TARGET_ATTACK)"
   ]
  }
 ],
 "metadata": {
  "kernelspec": {
   "display_name": "Python 3",
   "language": "python",
   "name": "python3"
  },
  "language_info": {
   "codemirror_mode": {
    "name": "ipython",
    "version": 3
   },
   "file_extension": ".py",
   "mimetype": "text/x-python",
   "name": "python",
   "nbconvert_exporter": "python",
   "pygments_lexer": "ipython3",
   "version": "3.6.8"
  }
 },
 "nbformat": 4,
 "nbformat_minor": 2
}

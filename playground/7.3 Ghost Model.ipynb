{
 "cells": [
  {
   "cell_type": "code",
   "execution_count": 1,
   "metadata": {},
   "outputs": [
    {
     "name": "stderr",
     "output_type": "stream",
     "text": [
      "Using TensorFlow backend.\n"
     ]
    }
   ],
   "source": [
    "import sys\n",
    "sys.path.append(\"../\")\n",
    "\n",
    "import tensorflow as tf\n",
    "from IJCAI19.model.EmbeddedAttackModel import *\n",
    "from IJCAI19.model.ModelFactory import ModelFactory\n",
    "from IJCAI19.model.BatchModel import *\n",
    "from IJCAI19.module.utils import *\n",
    "\n",
    "tf.flags.DEFINE_string(\n",
    "    'weight_path', 'IJCAI19/weight/', 'Path to checkpoint for inception network.')\n",
    "tf.flags.DEFINE_string(\n",
    "    'input_dir', '', 'Input directory with images.')\n",
    "tf.flags.DEFINE_string(\n",
    "    'output_file', '', 'Output file to save labels.')\n",
    "tf.flags.DEFINE_integer(\n",
    "    'image_width', 299, 'Width of each input images.')\n",
    "tf.flags.DEFINE_integer(\n",
    "    'image_height', 299, 'Height of each input images.')\n",
    "tf.flags.DEFINE_integer(\n",
    "    'batch_size', 8, 'How many images process at one time.')\n",
    "tf.flags.DEFINE_integer(\n",
    "    'num_classes', 110, 'How many classes of the data set')\n",
    "FLAGS = tf.flags.FLAGS\n",
    "tf.app.flags.DEFINE_string('f', '', 'kernel')\n",
    "\n",
    "dev_dir = \"../../official_data/dev_data/\"\n",
    "FLAGS.input_dir = \"../../test_data/NonTargetAttackResult/\"\n",
    "FLAGS.output_file = \"../../test_data/DefenseResult.txt\"\n",
    "FLAGS.weight_path = \"../IJCAI19/weight/\"\n",
    "\n",
    "ModelFactory.WEIGHT_DIR = FLAGS.weight_path"
   ]
  },
  {
   "cell_type": "code",
   "execution_count": 5,
   "metadata": {},
   "outputs": [
    {
     "name": "stdout",
     "output_type": "stream",
     "text": [
      "0.3\n",
      "shortcut_weight_range 0.1\n",
      "shortcut_weight_range 0.1\n",
      "shortcut_weight_range 0.1\n",
      "shortcut_weight_range 0.1\n",
      "shortcut_weight_range 0.1\n",
      "shortcut_weight_range 0.1\n",
      "shortcut_weight_range 0.1\n",
      "shortcut_weight_range 0.1\n",
      "shortcut_weight_range 0.1\n",
      "shortcut_weight_range 0.1\n",
      "shortcut_weight_range 0.1\n",
      "shortcut_weight_range 0.1\n",
      "shortcut_weight_range 0.1\n",
      "shortcut_weight_range 0.1\n",
      "shortcut_weight_range 0.1\n",
      "shortcut_weight_range 0.1\n",
      "INFO:tensorflow:Restoring parameters from ../IJCAI19/weight/resnet_v1_50/model.ckpt-49800\n",
      "Predict  runs: 6.53 s\n",
      "batchs 14 Accuracy 0.918181819265539\n"
     ]
    }
   ],
   "source": [
    "from IJCAI19.model.GhostNet.ghost_resnet_v1 import GHOST\n",
    "\n",
    "print(GHOST.shortcut_weight_range)\n",
    "GHOST.shortcut_weight_range = 0.1\n",
    "\n",
    "#Baseline\n",
    "batch_shape = [FLAGS.batch_size, FLAGS.image_height, FLAGS.image_width, 3]\n",
    "img_loader = ImageLoader(dev_dir, batch_shape, targetlabel=False, label_size=FLAGS.num_classes, format='png', label_file='dev.csv')\n",
    "\n",
    "name = \"ghost_resnetv1_50\"\n",
    "T = AttackModel(batch_shape, FLAGS.num_classes, name=name)\n",
    "Yp, topK, acc = PredictBatch(T, img_loader)"
   ]
  },
  {
   "cell_type": "code",
   "execution_count": null,
   "metadata": {},
   "outputs": [],
   "source": []
  }
 ],
 "metadata": {
  "kernelspec": {
   "display_name": "Python 3",
   "language": "python",
   "name": "python3"
  },
  "language_info": {
   "codemirror_mode": {
    "name": "ipython",
    "version": 3
   },
   "file_extension": ".py",
   "mimetype": "text/x-python",
   "name": "python",
   "nbconvert_exporter": "python",
   "pygments_lexer": "ipython3",
   "version": "3.6.8"
  }
 },
 "nbformat": 4,
 "nbformat_minor": 2
}

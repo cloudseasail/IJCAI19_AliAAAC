{
 "cells": [
  {
   "cell_type": "code",
   "execution_count": 1,
   "metadata": {},
   "outputs": [
    {
     "name": "stderr",
     "output_type": "stream",
     "text": [
      "Using TensorFlow backend.\n"
     ]
    }
   ],
   "source": [
    "import sys\n",
    "sys.path.append(\"../\")\n",
    "\n",
    "import tensorflow as tf\n",
    "from IJCAI19.test.AttackTest import *\n",
    "\n",
    "InitGlobal()\n",
    "TARGET_ATTACK = True\n",
    "\n",
    "from IJCAI19.model.GhostNet.ghost_resnet_v1 import GHOST\n",
    "batch_shape = [FLAGS.batch_size, FLAGS.image_height, FLAGS.image_width, 3]"
   ]
  },
  {
   "cell_type": "code",
   "execution_count": 2,
   "metadata": {},
   "outputs": [
    {
     "name": "stdout",
     "output_type": "stream",
     "text": [
      "{'ep_ratio': 0.1, 'nb_iter': 10, 'target': True, 'eps': 25.5, 'eps_iter': 2.55, 'y_target': <tf.Tensor 'output:0' shape=(?, 110) dtype=float32>, 'clip_min': 0, 'clip_max': 255}\n"
     ]
    },
    {
     "name": "stderr",
     "output_type": "stream",
     "text": [
      "..\\IJCAI19\\module\\gs_mim.py:204: UserWarning: kwargs is unused and will be removed on or after 2019-04-26.\n",
      "  warnings.warn(\"kwargs is unused and will be removed on or after \"\n"
     ]
    },
    {
     "name": "stdout",
     "output_type": "stream",
     "text": [
      "INFO:tensorflow:Restoring parameters from ../IJCAI19/weight/resnet_v1_50/model.ckpt-49800\n",
      "INFO:tensorflow:Restoring parameters from ../IJCAI19/weight/vgg_16/vgg_16.ckpt\n",
      "Predict  runs: 19.45 s\n",
      "batchs 28 Accuracy 0.03636363636363636\n",
      "(110, 299, 299, 3) (110, 299, 299, 3) (110, 110) (110, 110)\n",
      "Mean L2 17.1515,  Score 124.0174, Attack Success Rate 0.04\n"
     ]
    }
   ],
   "source": [
    "#Base  line\n",
    "# Attack model\n",
    "name = 'resnetv1_50'\n",
    "attack_params = {\"ep_ratio\": 0.1, \"nb_iter\": 10, \"target\":TARGET_ATTACK}\n",
    "T1 = AttackModel(batch_shape, FLAGS.num_classes, name=name)\n",
    "A = EmbeddedAttackModel(batch_shape, FLAGS.num_classes)\n",
    "A.add_model(T1)\n",
    "Attack(A, GradSmoothMomentumIterativeMethod, attack_params, TARGET_ATTACK)\n",
    "\n",
    "# Validate model\n",
    "name = 'vgg_16'\n",
    "T2 = AttackModel(batch_shape, FLAGS.num_classes, name=name)\n",
    "Yp, topK, acc = Predict(T2, FLAGS.output_dir, targetlabel=TARGET_ATTACK)\n",
    "X, Y, Xadv, Yadv = Score(Yp, TARGET_ATTACK)"
   ]
  },
  {
   "cell_type": "code",
   "execution_count": 3,
   "metadata": {},
   "outputs": [
    {
     "name": "stdout",
     "output_type": "stream",
     "text": [
      "0.1\n",
      "{'ep_ratio': 0.1, 'nb_iter': 10, 'target': True, 'eps': 25.5, 'eps_iter': 2.55, 'y_target': <tf.Tensor 'output:0' shape=(?, 110) dtype=float32>, 'clip_min': 0, 'clip_max': 255}\n",
      "INFO:tensorflow:Restoring parameters from ../IJCAI19/weight/resnet_v1_50/model.ckpt-49800\n",
      "INFO:tensorflow:Restoring parameters from ../IJCAI19/weight/vgg_16/vgg_16.ckpt\n",
      "Predict  runs: 16.85 s\n",
      "batchs 28 Accuracy 0.045454545454545456\n",
      "(110, 299, 299, 3) (110, 299, 299, 3) (110, 110) (110, 110)\n",
      "Mean L2 17.1198,  Score 123.0197, Attack Success Rate 0.05\n"
     ]
    }
   ],
   "source": [
    "GHOST.shortcut_weight_range = 0.1\n",
    "print(GHOST.shortcut_weight_range)\n",
    "\n",
    "name = 'ghost_resnetv1_50'\n",
    "attack_params = {\"ep_ratio\": 0.1, \"nb_iter\": 10, \"target\":TARGET_ATTACK}\n",
    "\n",
    "T1 = AttackModel(batch_shape, FLAGS.num_classes, name=name)\n",
    "# T2 = AttackModel(batch_shape, FLAGS.num_classes, name=name)\n",
    "A = EmbeddedAttackModel(batch_shape, FLAGS.num_classes)\n",
    "A.add_model(T1)\n",
    "# A.add_model(T2)\n",
    "Attack(A, GradSmoothMomentumIterativeMethod, attack_params, TARGET_ATTACK)\n",
    "\n",
    "name = 'vgg_16'\n",
    "T2 = AttackModel(batch_shape, FLAGS.num_classes, name=name)\n",
    "Yp, topK, acc = Predict(T2, FLAGS.output_dir, targetlabel=TARGET_ATTACK)\n",
    "X, Y, Xadv, Yadv = Score(Yp, TARGET_ATTACK)"
   ]
  },
  {
   "cell_type": "code",
   "execution_count": 5,
   "metadata": {},
   "outputs": [
    {
     "name": "stdout",
     "output_type": "stream",
     "text": [
      "0.3\n",
      "{'ep_ratio': 0.1, 'nb_iter': 30, 'target': True, 'eps': 25.5, 'eps_iter': 0.85, 'y_target': <tf.Tensor 'output:0' shape=(?, 110) dtype=float32>, 'clip_min': 0, 'clip_max': 255}\n",
      "INFO:tensorflow:Restoring parameters from ../IJCAI19/weight/resnet_v1_50/model.ckpt-49800\n",
      "Attack  runs: 315.03 s\n",
      "INFO:tensorflow:Restoring parameters from ../IJCAI19/weight/vgg_16/vgg_16.ckpt\n",
      "Predict  runs: 17.12 s\n",
      "batchs 28 Accuracy 0.045454545454545456\n",
      "(110, 299, 299, 3) (110, 299, 299, 3) (110, 110) (110, 110)\n",
      "Mean L2 12.1788,  Score 122.7598, Attack Success Rate 0.05\n"
     ]
    }
   ],
   "source": [
    "GHOST.shortcut_weight_range = 0.3\n",
    "print(GHOST.shortcut_weight_range)\n",
    "\n",
    "name = 'ghost_resnetv1_50'\n",
    "attack_params = {\"ep_ratio\": 0.1, \"nb_iter\": 30, \"target\":TARGET_ATTACK}\n",
    "\n",
    "T1 = AttackModel(batch_shape, FLAGS.num_classes, name=name)\n",
    "T2 = AttackModel(batch_shape, FLAGS.num_classes, name=name)\n",
    "T3 = AttackModel(batch_shape, FLAGS.num_classes, name=name)\n",
    "A = EmbeddedAttackModel(batch_shape, FLAGS.num_classes)\n",
    "A.add_model(T1)\n",
    "# A.add_model(T2)\n",
    "# A.add_model(T3)\n",
    "Attack(A, GradSmoothMomentumIterativeMethod, attack_params, TARGET_ATTACK)\n",
    "\n",
    "name = 'vgg_16'\n",
    "T2 = AttackModel(batch_shape, FLAGS.num_classes, name=name)\n",
    "Yp, topK, acc = Predict(T2, FLAGS.output_dir, targetlabel=TARGET_ATTACK)\n",
    "X, Y, Xadv, Yadv = Score(Yp, TARGET_ATTACK)"
   ]
  },
  {
   "cell_type": "code",
   "execution_count": null,
   "metadata": {},
   "outputs": [],
   "source": []
  }
 ],
 "metadata": {
  "kernelspec": {
   "display_name": "Python 3",
   "language": "python",
   "name": "python3"
  },
  "language_info": {
   "codemirror_mode": {
    "name": "ipython",
    "version": 3
   },
   "file_extension": ".py",
   "mimetype": "text/x-python",
   "name": "python",
   "nbconvert_exporter": "python",
   "pygments_lexer": "ipython3",
   "version": "3.6.8"
  }
 },
 "nbformat": 4,
 "nbformat_minor": 2
}

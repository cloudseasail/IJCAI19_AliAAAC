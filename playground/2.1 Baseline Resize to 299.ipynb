{
 "cells": [
  {
   "cell_type": "code",
   "execution_count": 1,
   "metadata": {},
   "outputs": [
    {
     "name": "stderr",
     "output_type": "stream",
     "text": [
      "Using TensorFlow backend.\n"
     ]
    }
   ],
   "source": [
    "from module.EmbeddedAttackModel import EmbeddedAttackModel, AttackModel, AttackHelper\n",
    "from module.utils import * \n",
    "from module.gs_mim import GradSmoothMomentumIterativeMethod\n",
    "from cleverhans.attacks import MomentumIterativeMethod\n",
    "%matplotlib inline\n",
    "import numpy as np\n",
    "\n",
    "batch_shape = (110, 299, 299, 3)\n",
    "datag = dev_data_generater(batch_shape=batch_shape)\n",
    "_,X,Y = next(datag)"
   ]
  },
  {
   "cell_type": "code",
   "execution_count": 2,
   "metadata": {},
   "outputs": [
    {
     "name": "stdout",
     "output_type": "stream",
     "text": [
      "INFO:tensorflow:Restoring parameters from ../official_data/model/inception_v1/inception_v1.ckpt\n",
      "inception_v1 predict runs: 12.63 s\n",
      "inception_v1 predict accuracy : 1.0\n"
     ]
    },
    {
     "data": {
      "text/plain": [
       "(array([ 17,  13,  66,  10,  57,  35,  47, 107,  27,  31,  15,  40,   5,\n",
       "         78,  52,  37,  21,  58,  55,  50,  88, 101, 102, 105,  75,   7,\n",
       "          8,  18,  84,  48,   2,  54,   4,  62,  46,  28,  24, 100,  16,\n",
       "         14,  34,  82,  70,   1,  32, 109,  72,  51,  33,  69,  59,   0,\n",
       "         26,  41,  92,   9,  89,  67,  83,  61,   6,  81,  97,  95,  11,\n",
       "         85,  30,  45, 103,  39,  71,  96,  93, 106,  90,  77,  98,  94,\n",
       "          3,  99,  12,  73,  74,  22,  60,  43,  53,  87,  36,  64,  42,\n",
       "         65, 108,  38,  49,  79,  44,  29,  68,  23,  56,  76, 104,  91,\n",
       "         25,  20,  63,  80,  19,  86], dtype=int64), 1.0)"
      ]
     },
     "execution_count": 2,
     "metadata": {},
     "output_type": "execute_result"
    }
   ],
   "source": [
    "name = 'inception_v1'\n",
    "T1 = AttackModel(batch_shape, 110, name=name)\n",
    "T1.predict(X,Y)"
   ]
  },
  {
   "cell_type": "code",
   "execution_count": 3,
   "metadata": {},
   "outputs": [
    {
     "name": "stdout",
     "output_type": "stream",
     "text": [
      "{'ep_ratio': 0.1, 'nb_iter': 2, 'y': array([[0, 0, 0, ..., 0, 0, 0],\n",
      "       [0, 0, 0, ..., 0, 0, 0],\n",
      "       [0, 0, 0, ..., 0, 0, 0],\n",
      "       ...,\n",
      "       [0, 0, 0, ..., 0, 0, 0],\n",
      "       [0, 0, 0, ..., 0, 0, 0],\n",
      "       [0, 0, 0, ..., 0, 0, 0]]), 'eps': 25.5, 'eps_iter': 12.75, 'clip_min': 0, 'clip_max': 255}\n"
     ]
    },
    {
     "name": "stderr",
     "output_type": "stream",
     "text": [
      "C:\\ProgramData\\Miniconda3\\lib\\site-packages\\cleverhans\\attacks\\__init__.py:886: UserWarning: kwargs is unused and will be removed on or after 2019-04-26.\n",
      "  warnings.warn(\"kwargs is unused and will be removed on or after \"\n"
     ]
    },
    {
     "name": "stdout",
     "output_type": "stream",
     "text": [
      "INFO:tensorflow:Restoring parameters from ../official_data/model/inception_v1/inception_v1.ckpt\n",
      "Attack runs: 51.81 s\n",
      "L2 32.73608002229155\n",
      "INFO:tensorflow:Restoring parameters from ../official_data/model/inception_v1/inception_v1.ckpt\n",
      "inception_v1 predict runs: 12.15 s\n",
      "inception_v1 predict accuracy : 0.0\n"
     ]
    }
   ],
   "source": [
    "A = EmbeddedAttackModel(batch_shape, 110)\n",
    "A.add_model(T1)\n",
    "attack_params = {\"ep_ratio\":0.1, \"nb_iter\":2, 'y':Y}\n",
    "Xadv = AttackHelper(A, X, Y, MomentumIterativeMethod, attack_params)"
   ]
  },
  {
   "cell_type": "code",
   "execution_count": 6,
   "metadata": {},
   "outputs": [],
   "source": [
    "import tensorflow as tf"
   ]
  },
  {
   "cell_type": "code",
   "execution_count": 7,
   "metadata": {},
   "outputs": [],
   "source": [
    "with tf.Session() as sess:\n",
    "    X224 = tf.image.resize_images(X, [224,224])\n",
    "    X224 = sess.run(X224)"
   ]
  },
  {
   "cell_type": "code",
   "execution_count": 10,
   "metadata": {},
   "outputs": [
    {
     "data": {
      "text/plain": [
       "(110, 224, 224, 3)"
      ]
     },
     "execution_count": 10,
     "metadata": {},
     "output_type": "execute_result"
    }
   ],
   "source": [
    "X224.shape"
   ]
  },
  {
   "cell_type": "code",
   "execution_count": 11,
   "metadata": {},
   "outputs": [
    {
     "name": "stdout",
     "output_type": "stream",
     "text": [
      "{'ep_ratio': 0.1, 'nb_iter': 2, 'y': array([[0, 0, 0, ..., 0, 0, 0],\n",
      "       [0, 0, 0, ..., 0, 0, 0],\n",
      "       [0, 0, 0, ..., 0, 0, 0],\n",
      "       ...,\n",
      "       [0, 0, 0, ..., 0, 0, 0],\n",
      "       [0, 0, 0, ..., 0, 0, 0],\n",
      "       [0, 0, 0, ..., 0, 0, 0]]), 'eps': 25.5, 'eps_iter': 12.75, 'clip_min': 0, 'clip_max': 255}\n",
      "INFO:tensorflow:Restoring parameters from ../official_data/model/inception_v1/inception_v1.ckpt\n",
      "Attack runs: 50.10 s\n",
      "L2 32.69885\n",
      "INFO:tensorflow:Restoring parameters from ../official_data/model/inception_v1/inception_v1.ckpt\n",
      "inception_v1 predict runs: 12.53 s\n",
      "inception_v1 predict accuracy : 0.0\n"
     ]
    }
   ],
   "source": [
    "batch_shape = (110, 224, 224, 3)\n",
    "name = 'inception_v1'\n",
    "T2 = AttackModel(batch_shape, 110, name=name)\n",
    "A2 = EmbeddedAttackModel(batch_shape, 110)\n",
    "A2.add_model(T2)\n",
    "attack_params = {\"ep_ratio\":0.1, \"nb_iter\":2, 'y':Y}\n",
    "Xadv2 = AttackHelper(A2, X224, Y, MomentumIterativeMethod, attack_params)"
   ]
  },
  {
   "cell_type": "code",
   "execution_count": 15,
   "metadata": {},
   "outputs": [],
   "source": [
    "with tf.Session() as sess:\n",
    "    Xadv299 = tf.image.resize_images(Xadv2, [299,299])\n",
    "    Xadv299 = sess.run(Xadv299)"
   ]
  },
  {
   "cell_type": "code",
   "execution_count": 16,
   "metadata": {},
   "outputs": [
    {
     "name": "stdout",
     "output_type": "stream",
     "text": [
      "INFO:tensorflow:Restoring parameters from ../official_data/model/inception_v1/inception_v1.ckpt\n",
      "inception_v1 predict runs: 32.46 s\n",
      "inception_v1 predict accuracy : 0.0\n"
     ]
    },
    {
     "data": {
      "text/plain": [
       "(array([ 75,  70,  28,  86,  86,  30,   1,  28, 103, 106,  72,  43,  86,\n",
       "          7, 105,  70,  20,  13,  86,  56,  52,  97, 107,  40, 105,  70,\n",
       "         86,  71, 103,  86,  86,  86,  26,  51,  86,   8,  74, 103,  45,\n",
       "         12,  90, 107, 106, 103,  13,  93,   5,  44,  13,  42,  70,  42,\n",
       "         36,  93, 103,  45,  86,  28,  16,   1,  98,  40,  91,  86,  56,\n",
       "        103,  86,  13,  20,  85,  52,  93, 105,  92,  61,  86, 104, 105,\n",
       "        106,  34,  90,  75,  42,  52,  86,  75,  30, 104, 102,  75,  26,\n",
       "         75,  86, 102,  86,  36,   2,  73,  75,  61,  49,   1,  36, 105,\n",
       "         43, 102,  86,  86, 102,  61], dtype=int64), 0.0)"
      ]
     },
     "execution_count": 16,
     "metadata": {},
     "output_type": "execute_result"
    }
   ],
   "source": [
    "T1.predict(Xadv299,Y)"
   ]
  },
  {
   "cell_type": "code",
   "execution_count": null,
   "metadata": {},
   "outputs": [],
   "source": []
  }
 ],
 "metadata": {
  "kernelspec": {
   "display_name": "Python 3",
   "language": "python",
   "name": "python3"
  },
  "language_info": {
   "codemirror_mode": {
    "name": "ipython",
    "version": 3
   },
   "file_extension": ".py",
   "mimetype": "text/x-python",
   "name": "python",
   "nbconvert_exporter": "python",
   "pygments_lexer": "ipython3",
   "version": "3.6.8"
  }
 },
 "nbformat": 4,
 "nbformat_minor": 2
}

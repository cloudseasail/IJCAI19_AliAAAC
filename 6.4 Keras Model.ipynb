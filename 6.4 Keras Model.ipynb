{
 "cells": [
  {
   "cell_type": "code",
   "execution_count": 9,
   "metadata": {},
   "outputs": [],
   "source": [
    "from keras.models import load_model\n",
    "import os\n",
    "from module.utils import * \n",
    "from model.xception_keras import XceptionFineTune19, preprocess_input\n"
   ]
  },
  {
   "cell_type": "code",
   "execution_count": 4,
   "metadata": {},
   "outputs": [
    {
     "name": "stdout",
     "output_type": "stream",
     "text": [
      "loaded pretrained model from  jobs/model/keras_xception_19.h5\n",
      "_________________________________________________________________\n",
      "Layer (type)                 Output Shape              Param #   \n",
      "=================================================================\n",
      "xception (Model)             (None, 10, 10, 2048)      20861480  \n",
      "_________________________________________________________________\n",
      "final_gap (GlobalAveragePool (None, 2048)              0         \n",
      "_________________________________________________________________\n",
      "final_dense_mapping (Dense)  (None, 110)               225390    \n",
      "=================================================================\n",
      "Total params: 21,086,870\n",
      "Trainable params: 7,013,774\n",
      "Non-trainable params: 14,073,096\n",
      "_________________________________________________________________\n"
     ]
    }
   ],
   "source": [
    "saved_model = 'jobs/model/keras_xception_19.h5'\n",
    "if os.path.exists(saved_model):\n",
    "    model = load_model(saved_model)\n",
    "    print(\"loaded pretrained model from \", saved_model)\n",
    "model.summary()"
   ]
  },
  {
   "cell_type": "code",
   "execution_count": 10,
   "metadata": {},
   "outputs": [
    {
     "name": "stdout",
     "output_type": "stream",
     "text": [
      "110/110 [==============================] - 7s 63ms/step\n",
      "\n",
      "test loss 1.9797267805446277\n",
      "accuracy 0.49090909416025336\n"
     ]
    }
   ],
   "source": [
    "batch_shape = (110, 299, 299, 3)\n",
    "datag = dev_data_generater(batch_shape=batch_shape)\n",
    "_,X,Y = next(datag)\n",
    "X = preprocess_input(X)\n",
    "loss,accuracy = model.evaluate(X,Y)\n",
    "print('\\ntest loss',loss)\n",
    "print('accuracy',accuracy)"
   ]
  },
  {
   "cell_type": "code",
   "execution_count": 12,
   "metadata": {},
   "outputs": [
    {
     "ename": "AttributeError",
     "evalue": "'Sequential' object has no attribute 'batch_size'",
     "output_type": "error",
     "traceback": [
      "\u001b[1;31m---------------------------------------------------------------------------\u001b[0m",
      "\u001b[1;31mAttributeError\u001b[0m                            Traceback (most recent call last)",
      "\u001b[1;32m<ipython-input-12-0fc75f05c847>\u001b[0m in \u001b[0;36m<module>\u001b[1;34m\u001b[0m\n\u001b[1;32m----> 1\u001b[1;33m \u001b[0mmodel\u001b[0m\u001b[1;33m.\u001b[0m\u001b[0mbatch_size\u001b[0m\u001b[1;33m\u001b[0m\u001b[1;33m\u001b[0m\u001b[0m\n\u001b[0m",
      "\u001b[1;31mAttributeError\u001b[0m: 'Sequential' object has no attribute 'batch_size'"
     ]
    }
   ],
   "source": [
    "model.batch_size"
   ]
  },
  {
   "cell_type": "code",
   "execution_count": null,
   "metadata": {},
   "outputs": [],
   "source": []
  }
 ],
 "metadata": {
  "kernelspec": {
   "display_name": "Python 3",
   "language": "python",
   "name": "python3"
  },
  "language_info": {
   "codemirror_mode": {
    "name": "ipython",
    "version": 3
   },
   "file_extension": ".py",
   "mimetype": "text/x-python",
   "name": "python",
   "nbconvert_exporter": "python",
   "pygments_lexer": "ipython3",
   "version": "3.6.8"
  }
 },
 "nbformat": 4,
 "nbformat_minor": 2
}

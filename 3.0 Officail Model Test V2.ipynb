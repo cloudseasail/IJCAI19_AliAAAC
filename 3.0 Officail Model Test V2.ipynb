{
 "cells": [
  {
   "cell_type": "code",
   "execution_count": 1,
   "metadata": {},
   "outputs": [
    {
     "name": "stderr",
     "output_type": "stream",
     "text": [
      "Using TensorFlow backend.\n"
     ]
    }
   ],
   "source": [
    "from module.cleverhans_model import AttackModel\n",
    "from module.utils import *\n",
    "%matplotlib inline"
   ]
  },
  {
   "cell_type": "code",
   "execution_count": 2,
   "metadata": {},
   "outputs": [
    {
     "name": "stdout",
     "output_type": "stream",
     "text": [
      "INFO:tensorflow:Restoring parameters from model/inception_v1/inception_v1.ckpt\n",
      "inception_v1 predict runs: 11.69 s\n",
      "1.0\n"
     ]
    }
   ],
   "source": [
    "batch_shape = (110, 224, 224, 3)\n",
    "M=AttackModel(batch_shape, 110)\n",
    "M.load(name='inception_v1')\n",
    "\n",
    "datag = dev_data_generater(batch_shape=batch_shape, label_shape=(110,110))\n",
    "_,X,Y = next(datag)\n",
    "X = M.preprocess_input(X)\n",
    "p=Profile(M.name+' predict')\n",
    "ypred, accuracy = M.predict(X,Y)\n",
    "p.stop()\n",
    "print(accuracy)"
   ]
  },
  {
   "cell_type": "code",
   "execution_count": 3,
   "metadata": {},
   "outputs": [
    {
     "name": "stdout",
     "output_type": "stream",
     "text": [
      "INFO:tensorflow:Restoring parameters from model/resnet_v1_50/model.ckpt-49800\n",
      "resnetv1_50 predict runs: 18.34 s\n",
      "0.9909091\n"
     ]
    }
   ],
   "source": [
    "batch_shape = (110, 224, 224, 3)\n",
    "M=AttackModel(batch_shape, 110)\n",
    "M.load(name='resnetv1_50')\n",
    "\n",
    "datag = dev_data_generater(batch_shape=batch_shape, label_shape=(110,110))\n",
    "_,X,Y = next(datag)\n",
    "X = M.preprocess_input(X)\n",
    "p=Profile(M.name+' predict')\n",
    "ypred, accuracy = M.predict(X,Y)\n",
    "p.stop()\n",
    "print(accuracy)"
   ]
  },
  {
   "cell_type": "code",
   "execution_count": 4,
   "metadata": {},
   "outputs": [
    {
     "name": "stdout",
     "output_type": "stream",
     "text": [
      "INFO:tensorflow:Restoring parameters from model/resnet_v1_50/model.ckpt-49800\n",
      "resnetv1_50 predict runs: 27.99 s\n",
      "0.9818182\n"
     ]
    }
   ],
   "source": [
    "batch_shape = (110, 299, 299, 3)\n",
    "M=AttackModel(batch_shape, 110)\n",
    "M.load(name='resnetv1_50')\n",
    "\n",
    "datag = dev_data_generater(batch_shape=batch_shape, label_shape=(110,110))\n",
    "_,X,Y = next(datag)\n",
    "X = M.preprocess_input(X)\n",
    "p=Profile(M.name+' predict')\n",
    "ypred, accuracy = M.predict(X,Y)\n",
    "p.stop()\n",
    "print(accuracy)"
   ]
  },
  {
   "cell_type": "code",
   "execution_count": 5,
   "metadata": {},
   "outputs": [
    {
     "name": "stdout",
     "output_type": "stream",
     "text": [
      "INFO:tensorflow:Restoring parameters from ../official_data/model/vgg_16/vgg_16.ckpt\n",
      "vgg_16 predict runs: 183.46 s\n",
      "0.9909091\n"
     ]
    }
   ],
   "source": [
    "batch_shape = (110, 224, 224, 3)\n",
    "M=AttackModel(batch_shape, 110)\n",
    "M.load(name='vgg_16')\n",
    "\n",
    "datag = dev_data_generater(batch_shape=batch_shape, label_shape=(110,110))\n",
    "_,X,Y = next(datag)\n",
    "X = M.preprocess_input(X)\n",
    "p=Profile(M.name+' predict')\n",
    "ypred, accuracy = M.predict(X,Y)\n",
    "p.stop()\n",
    "print(accuracy)"
   ]
  },
  {
   "cell_type": "code",
   "execution_count": null,
   "metadata": {},
   "outputs": [],
   "source": []
  }
 ],
 "metadata": {
  "kernelspec": {
   "display_name": "Python 3",
   "language": "python",
   "name": "python3"
  },
  "language_info": {
   "codemirror_mode": {
    "name": "ipython",
    "version": 3
   },
   "file_extension": ".py",
   "mimetype": "text/x-python",
   "name": "python",
   "nbconvert_exporter": "python",
   "pygments_lexer": "ipython3",
   "version": "3.6.8"
  }
 },
 "nbformat": 4,
 "nbformat_minor": 2
}
